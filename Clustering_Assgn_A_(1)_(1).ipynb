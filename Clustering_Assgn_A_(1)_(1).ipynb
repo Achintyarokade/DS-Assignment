{
  "nbformat": 4,
  "nbformat_minor": 0,
  "metadata": {
    "colab": {
      "name": "Clustering_Assgn_A (1) (1).ipynb",
      "provenance": [],
      "collapsed_sections": [],
      "include_colab_link": true
    },
    "kernelspec": {
      "name": "python3",
      "display_name": "Python 3"
    },
    "language_info": {
      "name": "python"
    }
  },
  "cells": [
    {
      "cell_type": "markdown",
      "metadata": {
        "id": "view-in-github",
        "colab_type": "text"
      },
      "source": [
        "<a href=\"https://colab.research.google.com/github/Achintyarokade/DS-Assignment/blob/main/Clustering_Assgn_A_(1)_(1).ipynb\" target=\"_parent\"><img src=\"https://colab.research.google.com/assets/colab-badge.svg\" alt=\"Open In Colab\"/></a>"
      ]
    },
    {
      "cell_type": "code",
      "metadata": {
        "id": "QXU68U7Kj5Gd"
      },
      "source": [
        "import pandas as pd\n",
        "import numpy as np\n",
        "import matplotlib.pyplot as plt\n",
        "import scipy.cluster.hierarchy as sch\n",
        "from sklearn.cluster import AgglomerativeClustering"
      ],
      "execution_count": 1,
      "outputs": []
    },
    {
      "cell_type": "code",
      "metadata": {
        "id": "5QvGB5hlqyZ3"
      },
      "source": [
        "data = pd.read_excel('EastWestAirlines.xlsx', sheet_name='data')\n"
      ],
      "execution_count": 2,
      "outputs": []
    },
    {
      "cell_type": "code",
      "metadata": {
        "colab": {
          "base_uri": "https://localhost:8080/",
          "height": 270
        },
        "id": "JXy13-EtsVCO",
        "outputId": "d88e8dec-b57a-4ec7-d3fa-1b137cb22f84"
      },
      "source": [
        "data.head()"
      ],
      "execution_count": 3,
      "outputs": [
        {
          "output_type": "execute_result",
          "data": {
            "text/html": [
              "\n",
              "  <div id=\"df-9615380a-122c-4ff4-b4a2-aaf6442fce39\">\n",
              "    <div class=\"colab-df-container\">\n",
              "      <div>\n",
              "<style scoped>\n",
              "    .dataframe tbody tr th:only-of-type {\n",
              "        vertical-align: middle;\n",
              "    }\n",
              "\n",
              "    .dataframe tbody tr th {\n",
              "        vertical-align: top;\n",
              "    }\n",
              "\n",
              "    .dataframe thead th {\n",
              "        text-align: right;\n",
              "    }\n",
              "</style>\n",
              "<table border=\"1\" class=\"dataframe\">\n",
              "  <thead>\n",
              "    <tr style=\"text-align: right;\">\n",
              "      <th></th>\n",
              "      <th>ID#</th>\n",
              "      <th>Balance</th>\n",
              "      <th>Qual_miles</th>\n",
              "      <th>cc1_miles</th>\n",
              "      <th>cc2_miles</th>\n",
              "      <th>cc3_miles</th>\n",
              "      <th>Bonus_miles</th>\n",
              "      <th>Bonus_trans</th>\n",
              "      <th>Flight_miles_12mo</th>\n",
              "      <th>Flight_trans_12</th>\n",
              "      <th>Days_since_enroll</th>\n",
              "      <th>Award?</th>\n",
              "    </tr>\n",
              "  </thead>\n",
              "  <tbody>\n",
              "    <tr>\n",
              "      <th>0</th>\n",
              "      <td>1</td>\n",
              "      <td>28143</td>\n",
              "      <td>0</td>\n",
              "      <td>1</td>\n",
              "      <td>1</td>\n",
              "      <td>1</td>\n",
              "      <td>174</td>\n",
              "      <td>1</td>\n",
              "      <td>0</td>\n",
              "      <td>0</td>\n",
              "      <td>7000</td>\n",
              "      <td>0</td>\n",
              "    </tr>\n",
              "    <tr>\n",
              "      <th>1</th>\n",
              "      <td>2</td>\n",
              "      <td>19244</td>\n",
              "      <td>0</td>\n",
              "      <td>1</td>\n",
              "      <td>1</td>\n",
              "      <td>1</td>\n",
              "      <td>215</td>\n",
              "      <td>2</td>\n",
              "      <td>0</td>\n",
              "      <td>0</td>\n",
              "      <td>6968</td>\n",
              "      <td>0</td>\n",
              "    </tr>\n",
              "    <tr>\n",
              "      <th>2</th>\n",
              "      <td>3</td>\n",
              "      <td>41354</td>\n",
              "      <td>0</td>\n",
              "      <td>1</td>\n",
              "      <td>1</td>\n",
              "      <td>1</td>\n",
              "      <td>4123</td>\n",
              "      <td>4</td>\n",
              "      <td>0</td>\n",
              "      <td>0</td>\n",
              "      <td>7034</td>\n",
              "      <td>0</td>\n",
              "    </tr>\n",
              "    <tr>\n",
              "      <th>3</th>\n",
              "      <td>4</td>\n",
              "      <td>14776</td>\n",
              "      <td>0</td>\n",
              "      <td>1</td>\n",
              "      <td>1</td>\n",
              "      <td>1</td>\n",
              "      <td>500</td>\n",
              "      <td>1</td>\n",
              "      <td>0</td>\n",
              "      <td>0</td>\n",
              "      <td>6952</td>\n",
              "      <td>0</td>\n",
              "    </tr>\n",
              "    <tr>\n",
              "      <th>4</th>\n",
              "      <td>5</td>\n",
              "      <td>97752</td>\n",
              "      <td>0</td>\n",
              "      <td>4</td>\n",
              "      <td>1</td>\n",
              "      <td>1</td>\n",
              "      <td>43300</td>\n",
              "      <td>26</td>\n",
              "      <td>2077</td>\n",
              "      <td>4</td>\n",
              "      <td>6935</td>\n",
              "      <td>1</td>\n",
              "    </tr>\n",
              "  </tbody>\n",
              "</table>\n",
              "</div>\n",
              "      <button class=\"colab-df-convert\" onclick=\"convertToInteractive('df-9615380a-122c-4ff4-b4a2-aaf6442fce39')\"\n",
              "              title=\"Convert this dataframe to an interactive table.\"\n",
              "              style=\"display:none;\">\n",
              "        \n",
              "  <svg xmlns=\"http://www.w3.org/2000/svg\" height=\"24px\"viewBox=\"0 0 24 24\"\n",
              "       width=\"24px\">\n",
              "    <path d=\"M0 0h24v24H0V0z\" fill=\"none\"/>\n",
              "    <path d=\"M18.56 5.44l.94 2.06.94-2.06 2.06-.94-2.06-.94-.94-2.06-.94 2.06-2.06.94zm-11 1L8.5 8.5l.94-2.06 2.06-.94-2.06-.94L8.5 2.5l-.94 2.06-2.06.94zm10 10l.94 2.06.94-2.06 2.06-.94-2.06-.94-.94-2.06-.94 2.06-2.06.94z\"/><path d=\"M17.41 7.96l-1.37-1.37c-.4-.4-.92-.59-1.43-.59-.52 0-1.04.2-1.43.59L10.3 9.45l-7.72 7.72c-.78.78-.78 2.05 0 2.83L4 21.41c.39.39.9.59 1.41.59.51 0 1.02-.2 1.41-.59l7.78-7.78 2.81-2.81c.8-.78.8-2.07 0-2.86zM5.41 20L4 18.59l7.72-7.72 1.47 1.35L5.41 20z\"/>\n",
              "  </svg>\n",
              "      </button>\n",
              "      \n",
              "  <style>\n",
              "    .colab-df-container {\n",
              "      display:flex;\n",
              "      flex-wrap:wrap;\n",
              "      gap: 12px;\n",
              "    }\n",
              "\n",
              "    .colab-df-convert {\n",
              "      background-color: #E8F0FE;\n",
              "      border: none;\n",
              "      border-radius: 50%;\n",
              "      cursor: pointer;\n",
              "      display: none;\n",
              "      fill: #1967D2;\n",
              "      height: 32px;\n",
              "      padding: 0 0 0 0;\n",
              "      width: 32px;\n",
              "    }\n",
              "\n",
              "    .colab-df-convert:hover {\n",
              "      background-color: #E2EBFA;\n",
              "      box-shadow: 0px 1px 2px rgba(60, 64, 67, 0.3), 0px 1px 3px 1px rgba(60, 64, 67, 0.15);\n",
              "      fill: #174EA6;\n",
              "    }\n",
              "\n",
              "    [theme=dark] .colab-df-convert {\n",
              "      background-color: #3B4455;\n",
              "      fill: #D2E3FC;\n",
              "    }\n",
              "\n",
              "    [theme=dark] .colab-df-convert:hover {\n",
              "      background-color: #434B5C;\n",
              "      box-shadow: 0px 1px 3px 1px rgba(0, 0, 0, 0.15);\n",
              "      filter: drop-shadow(0px 1px 2px rgba(0, 0, 0, 0.3));\n",
              "      fill: #FFFFFF;\n",
              "    }\n",
              "  </style>\n",
              "\n",
              "      <script>\n",
              "        const buttonEl =\n",
              "          document.querySelector('#df-9615380a-122c-4ff4-b4a2-aaf6442fce39 button.colab-df-convert');\n",
              "        buttonEl.style.display =\n",
              "          google.colab.kernel.accessAllowed ? 'block' : 'none';\n",
              "\n",
              "        async function convertToInteractive(key) {\n",
              "          const element = document.querySelector('#df-9615380a-122c-4ff4-b4a2-aaf6442fce39');\n",
              "          const dataTable =\n",
              "            await google.colab.kernel.invokeFunction('convertToInteractive',\n",
              "                                                     [key], {});\n",
              "          if (!dataTable) return;\n",
              "\n",
              "          const docLinkHtml = 'Like what you see? Visit the ' +\n",
              "            '<a target=\"_blank\" href=https://colab.research.google.com/notebooks/data_table.ipynb>data table notebook</a>'\n",
              "            + ' to learn more about interactive tables.';\n",
              "          element.innerHTML = '';\n",
              "          dataTable['output_type'] = 'display_data';\n",
              "          await google.colab.output.renderOutput(dataTable, element);\n",
              "          const docLink = document.createElement('div');\n",
              "          docLink.innerHTML = docLinkHtml;\n",
              "          element.appendChild(docLink);\n",
              "        }\n",
              "      </script>\n",
              "    </div>\n",
              "  </div>\n",
              "  "
            ],
            "text/plain": [
              "   ID#  Balance  Qual_miles  ...  Flight_trans_12  Days_since_enroll  Award?\n",
              "0    1    28143           0  ...                0               7000       0\n",
              "1    2    19244           0  ...                0               6968       0\n",
              "2    3    41354           0  ...                0               7034       0\n",
              "3    4    14776           0  ...                0               6952       0\n",
              "4    5    97752           0  ...                4               6935       1\n",
              "\n",
              "[5 rows x 12 columns]"
            ]
          },
          "metadata": {},
          "execution_count": 3
        }
      ]
    },
    {
      "cell_type": "code",
      "metadata": {
        "colab": {
          "base_uri": "https://localhost:8080/"
        },
        "id": "hTONQyYOsgfU",
        "outputId": "ff82aab3-dd32-4ed3-a3f2-82d197d7d85a"
      },
      "source": [
        "data.info()"
      ],
      "execution_count": 4,
      "outputs": [
        {
          "output_type": "stream",
          "name": "stdout",
          "text": [
            "<class 'pandas.core.frame.DataFrame'>\n",
            "RangeIndex: 3999 entries, 0 to 3998\n",
            "Data columns (total 12 columns):\n",
            " #   Column             Non-Null Count  Dtype\n",
            "---  ------             --------------  -----\n",
            " 0   ID#                3999 non-null   int64\n",
            " 1   Balance            3999 non-null   int64\n",
            " 2   Qual_miles         3999 non-null   int64\n",
            " 3   cc1_miles          3999 non-null   int64\n",
            " 4   cc2_miles          3999 non-null   int64\n",
            " 5   cc3_miles          3999 non-null   int64\n",
            " 6   Bonus_miles        3999 non-null   int64\n",
            " 7   Bonus_trans        3999 non-null   int64\n",
            " 8   Flight_miles_12mo  3999 non-null   int64\n",
            " 9   Flight_trans_12    3999 non-null   int64\n",
            " 10  Days_since_enroll  3999 non-null   int64\n",
            " 11  Award?             3999 non-null   int64\n",
            "dtypes: int64(12)\n",
            "memory usage: 375.0 KB\n"
          ]
        }
      ]
    },
    {
      "cell_type": "code",
      "metadata": {
        "colab": {
          "base_uri": "https://localhost:8080/",
          "height": 270
        },
        "id": "lYatezQwsygp",
        "outputId": "8e893cae-f4bc-4441-cf02-9e35bf08d790"
      },
      "source": [
        "data=data.rename({'ID#':'ID', 'Award?':'Award'} , axis=1)\n",
        "data.head()\n",
        "# Renaming columns"
      ],
      "execution_count": 5,
      "outputs": [
        {
          "output_type": "execute_result",
          "data": {
            "text/html": [
              "\n",
              "  <div id=\"df-b80d1c43-4233-4fd4-b205-92fdddb85b26\">\n",
              "    <div class=\"colab-df-container\">\n",
              "      <div>\n",
              "<style scoped>\n",
              "    .dataframe tbody tr th:only-of-type {\n",
              "        vertical-align: middle;\n",
              "    }\n",
              "\n",
              "    .dataframe tbody tr th {\n",
              "        vertical-align: top;\n",
              "    }\n",
              "\n",
              "    .dataframe thead th {\n",
              "        text-align: right;\n",
              "    }\n",
              "</style>\n",
              "<table border=\"1\" class=\"dataframe\">\n",
              "  <thead>\n",
              "    <tr style=\"text-align: right;\">\n",
              "      <th></th>\n",
              "      <th>ID</th>\n",
              "      <th>Balance</th>\n",
              "      <th>Qual_miles</th>\n",
              "      <th>cc1_miles</th>\n",
              "      <th>cc2_miles</th>\n",
              "      <th>cc3_miles</th>\n",
              "      <th>Bonus_miles</th>\n",
              "      <th>Bonus_trans</th>\n",
              "      <th>Flight_miles_12mo</th>\n",
              "      <th>Flight_trans_12</th>\n",
              "      <th>Days_since_enroll</th>\n",
              "      <th>Award</th>\n",
              "    </tr>\n",
              "  </thead>\n",
              "  <tbody>\n",
              "    <tr>\n",
              "      <th>0</th>\n",
              "      <td>1</td>\n",
              "      <td>28143</td>\n",
              "      <td>0</td>\n",
              "      <td>1</td>\n",
              "      <td>1</td>\n",
              "      <td>1</td>\n",
              "      <td>174</td>\n",
              "      <td>1</td>\n",
              "      <td>0</td>\n",
              "      <td>0</td>\n",
              "      <td>7000</td>\n",
              "      <td>0</td>\n",
              "    </tr>\n",
              "    <tr>\n",
              "      <th>1</th>\n",
              "      <td>2</td>\n",
              "      <td>19244</td>\n",
              "      <td>0</td>\n",
              "      <td>1</td>\n",
              "      <td>1</td>\n",
              "      <td>1</td>\n",
              "      <td>215</td>\n",
              "      <td>2</td>\n",
              "      <td>0</td>\n",
              "      <td>0</td>\n",
              "      <td>6968</td>\n",
              "      <td>0</td>\n",
              "    </tr>\n",
              "    <tr>\n",
              "      <th>2</th>\n",
              "      <td>3</td>\n",
              "      <td>41354</td>\n",
              "      <td>0</td>\n",
              "      <td>1</td>\n",
              "      <td>1</td>\n",
              "      <td>1</td>\n",
              "      <td>4123</td>\n",
              "      <td>4</td>\n",
              "      <td>0</td>\n",
              "      <td>0</td>\n",
              "      <td>7034</td>\n",
              "      <td>0</td>\n",
              "    </tr>\n",
              "    <tr>\n",
              "      <th>3</th>\n",
              "      <td>4</td>\n",
              "      <td>14776</td>\n",
              "      <td>0</td>\n",
              "      <td>1</td>\n",
              "      <td>1</td>\n",
              "      <td>1</td>\n",
              "      <td>500</td>\n",
              "      <td>1</td>\n",
              "      <td>0</td>\n",
              "      <td>0</td>\n",
              "      <td>6952</td>\n",
              "      <td>0</td>\n",
              "    </tr>\n",
              "    <tr>\n",
              "      <th>4</th>\n",
              "      <td>5</td>\n",
              "      <td>97752</td>\n",
              "      <td>0</td>\n",
              "      <td>4</td>\n",
              "      <td>1</td>\n",
              "      <td>1</td>\n",
              "      <td>43300</td>\n",
              "      <td>26</td>\n",
              "      <td>2077</td>\n",
              "      <td>4</td>\n",
              "      <td>6935</td>\n",
              "      <td>1</td>\n",
              "    </tr>\n",
              "  </tbody>\n",
              "</table>\n",
              "</div>\n",
              "      <button class=\"colab-df-convert\" onclick=\"convertToInteractive('df-b80d1c43-4233-4fd4-b205-92fdddb85b26')\"\n",
              "              title=\"Convert this dataframe to an interactive table.\"\n",
              "              style=\"display:none;\">\n",
              "        \n",
              "  <svg xmlns=\"http://www.w3.org/2000/svg\" height=\"24px\"viewBox=\"0 0 24 24\"\n",
              "       width=\"24px\">\n",
              "    <path d=\"M0 0h24v24H0V0z\" fill=\"none\"/>\n",
              "    <path d=\"M18.56 5.44l.94 2.06.94-2.06 2.06-.94-2.06-.94-.94-2.06-.94 2.06-2.06.94zm-11 1L8.5 8.5l.94-2.06 2.06-.94-2.06-.94L8.5 2.5l-.94 2.06-2.06.94zm10 10l.94 2.06.94-2.06 2.06-.94-2.06-.94-.94-2.06-.94 2.06-2.06.94z\"/><path d=\"M17.41 7.96l-1.37-1.37c-.4-.4-.92-.59-1.43-.59-.52 0-1.04.2-1.43.59L10.3 9.45l-7.72 7.72c-.78.78-.78 2.05 0 2.83L4 21.41c.39.39.9.59 1.41.59.51 0 1.02-.2 1.41-.59l7.78-7.78 2.81-2.81c.8-.78.8-2.07 0-2.86zM5.41 20L4 18.59l7.72-7.72 1.47 1.35L5.41 20z\"/>\n",
              "  </svg>\n",
              "      </button>\n",
              "      \n",
              "  <style>\n",
              "    .colab-df-container {\n",
              "      display:flex;\n",
              "      flex-wrap:wrap;\n",
              "      gap: 12px;\n",
              "    }\n",
              "\n",
              "    .colab-df-convert {\n",
              "      background-color: #E8F0FE;\n",
              "      border: none;\n",
              "      border-radius: 50%;\n",
              "      cursor: pointer;\n",
              "      display: none;\n",
              "      fill: #1967D2;\n",
              "      height: 32px;\n",
              "      padding: 0 0 0 0;\n",
              "      width: 32px;\n",
              "    }\n",
              "\n",
              "    .colab-df-convert:hover {\n",
              "      background-color: #E2EBFA;\n",
              "      box-shadow: 0px 1px 2px rgba(60, 64, 67, 0.3), 0px 1px 3px 1px rgba(60, 64, 67, 0.15);\n",
              "      fill: #174EA6;\n",
              "    }\n",
              "\n",
              "    [theme=dark] .colab-df-convert {\n",
              "      background-color: #3B4455;\n",
              "      fill: #D2E3FC;\n",
              "    }\n",
              "\n",
              "    [theme=dark] .colab-df-convert:hover {\n",
              "      background-color: #434B5C;\n",
              "      box-shadow: 0px 1px 3px 1px rgba(0, 0, 0, 0.15);\n",
              "      filter: drop-shadow(0px 1px 2px rgba(0, 0, 0, 0.3));\n",
              "      fill: #FFFFFF;\n",
              "    }\n",
              "  </style>\n",
              "\n",
              "      <script>\n",
              "        const buttonEl =\n",
              "          document.querySelector('#df-b80d1c43-4233-4fd4-b205-92fdddb85b26 button.colab-df-convert');\n",
              "        buttonEl.style.display =\n",
              "          google.colab.kernel.accessAllowed ? 'block' : 'none';\n",
              "\n",
              "        async function convertToInteractive(key) {\n",
              "          const element = document.querySelector('#df-b80d1c43-4233-4fd4-b205-92fdddb85b26');\n",
              "          const dataTable =\n",
              "            await google.colab.kernel.invokeFunction('convertToInteractive',\n",
              "                                                     [key], {});\n",
              "          if (!dataTable) return;\n",
              "\n",
              "          const docLinkHtml = 'Like what you see? Visit the ' +\n",
              "            '<a target=\"_blank\" href=https://colab.research.google.com/notebooks/data_table.ipynb>data table notebook</a>'\n",
              "            + ' to learn more about interactive tables.';\n",
              "          element.innerHTML = '';\n",
              "          dataTable['output_type'] = 'display_data';\n",
              "          await google.colab.output.renderOutput(dataTable, element);\n",
              "          const docLink = document.createElement('div');\n",
              "          docLink.innerHTML = docLinkHtml;\n",
              "          element.appendChild(docLink);\n",
              "        }\n",
              "      </script>\n",
              "    </div>\n",
              "  </div>\n",
              "  "
            ],
            "text/plain": [
              "   ID  Balance  Qual_miles  ...  Flight_trans_12  Days_since_enroll  Award\n",
              "0   1    28143           0  ...                0               7000      0\n",
              "1   2    19244           0  ...                0               6968      0\n",
              "2   3    41354           0  ...                0               7034      0\n",
              "3   4    14776           0  ...                0               6952      0\n",
              "4   5    97752           0  ...                4               6935      1\n",
              "\n",
              "[5 rows x 12 columns]"
            ]
          },
          "metadata": {},
          "execution_count": 5
        }
      ]
    },
    {
      "cell_type": "code",
      "metadata": {
        "id": "NpbXlWDAtfZF"
      },
      "source": [
        "def check_int(df):\n",
        "    count = 0\n",
        "    for row in df:\n",
        "        try:\n",
        "            if type(row) != int:\n",
        "                df.loc[count] = np.nan\n",
        "        except:\n",
        "            pass\n",
        "        count +=1\n",
        " # Checking for all the values in dataset of type integer, if not replacing them with nan"
      ],
      "execution_count": 6,
      "outputs": []
    },
    {
      "cell_type": "code",
      "metadata": {
        "id": "U0YdKGjeuGw9"
      },
      "source": [
        "check_int(data[data.columns])\n"
      ],
      "execution_count": 7,
      "outputs": []
    },
    {
      "cell_type": "code",
      "metadata": {
        "colab": {
          "base_uri": "https://localhost:8080/"
        },
        "id": "cjLMvDijuGtT",
        "outputId": "f7facfad-7b16-43ed-a3e8-f3ae0e85b406"
      },
      "source": [
        "data.isna().sum()\n"
      ],
      "execution_count": 8,
      "outputs": [
        {
          "output_type": "execute_result",
          "data": {
            "text/plain": [
              "ID                   0\n",
              "Balance              0\n",
              "Qual_miles           0\n",
              "cc1_miles            0\n",
              "cc2_miles            0\n",
              "cc3_miles            0\n",
              "Bonus_miles          0\n",
              "Bonus_trans          0\n",
              "Flight_miles_12mo    0\n",
              "Flight_trans_12      0\n",
              "Days_since_enroll    0\n",
              "Award                0\n",
              "dtype: int64"
            ]
          },
          "metadata": {},
          "execution_count": 8
        }
      ]
    },
    {
      "cell_type": "code",
      "metadata": {
        "colab": {
          "base_uri": "https://localhost:8080/",
          "height": 426
        },
        "id": "kCS_HaNFuGrv",
        "outputId": "56bac814-8b60-4d5e-b443-ba1d65e691f1"
      },
      "source": [
        "data.describe().transpose()"
      ],
      "execution_count": 9,
      "outputs": [
        {
          "output_type": "execute_result",
          "data": {
            "text/html": [
              "\n",
              "  <div id=\"df-96a4ff88-5b7a-4ec1-bd24-70b845ddc797\">\n",
              "    <div class=\"colab-df-container\">\n",
              "      <div>\n",
              "<style scoped>\n",
              "    .dataframe tbody tr th:only-of-type {\n",
              "        vertical-align: middle;\n",
              "    }\n",
              "\n",
              "    .dataframe tbody tr th {\n",
              "        vertical-align: top;\n",
              "    }\n",
              "\n",
              "    .dataframe thead th {\n",
              "        text-align: right;\n",
              "    }\n",
              "</style>\n",
              "<table border=\"1\" class=\"dataframe\">\n",
              "  <thead>\n",
              "    <tr style=\"text-align: right;\">\n",
              "      <th></th>\n",
              "      <th>count</th>\n",
              "      <th>mean</th>\n",
              "      <th>std</th>\n",
              "      <th>min</th>\n",
              "      <th>25%</th>\n",
              "      <th>50%</th>\n",
              "      <th>75%</th>\n",
              "      <th>max</th>\n",
              "    </tr>\n",
              "  </thead>\n",
              "  <tbody>\n",
              "    <tr>\n",
              "      <th>ID</th>\n",
              "      <td>3999.0</td>\n",
              "      <td>2014.819455</td>\n",
              "      <td>1160.764358</td>\n",
              "      <td>1.0</td>\n",
              "      <td>1010.5</td>\n",
              "      <td>2016.0</td>\n",
              "      <td>3020.5</td>\n",
              "      <td>4021.0</td>\n",
              "    </tr>\n",
              "    <tr>\n",
              "      <th>Balance</th>\n",
              "      <td>3999.0</td>\n",
              "      <td>73601.327582</td>\n",
              "      <td>100775.664958</td>\n",
              "      <td>0.0</td>\n",
              "      <td>18527.5</td>\n",
              "      <td>43097.0</td>\n",
              "      <td>92404.0</td>\n",
              "      <td>1704838.0</td>\n",
              "    </tr>\n",
              "    <tr>\n",
              "      <th>Qual_miles</th>\n",
              "      <td>3999.0</td>\n",
              "      <td>144.114529</td>\n",
              "      <td>773.663804</td>\n",
              "      <td>0.0</td>\n",
              "      <td>0.0</td>\n",
              "      <td>0.0</td>\n",
              "      <td>0.0</td>\n",
              "      <td>11148.0</td>\n",
              "    </tr>\n",
              "    <tr>\n",
              "      <th>cc1_miles</th>\n",
              "      <td>3999.0</td>\n",
              "      <td>2.059515</td>\n",
              "      <td>1.376919</td>\n",
              "      <td>1.0</td>\n",
              "      <td>1.0</td>\n",
              "      <td>1.0</td>\n",
              "      <td>3.0</td>\n",
              "      <td>5.0</td>\n",
              "    </tr>\n",
              "    <tr>\n",
              "      <th>cc2_miles</th>\n",
              "      <td>3999.0</td>\n",
              "      <td>1.014504</td>\n",
              "      <td>0.147650</td>\n",
              "      <td>1.0</td>\n",
              "      <td>1.0</td>\n",
              "      <td>1.0</td>\n",
              "      <td>1.0</td>\n",
              "      <td>3.0</td>\n",
              "    </tr>\n",
              "    <tr>\n",
              "      <th>cc3_miles</th>\n",
              "      <td>3999.0</td>\n",
              "      <td>1.012253</td>\n",
              "      <td>0.195241</td>\n",
              "      <td>1.0</td>\n",
              "      <td>1.0</td>\n",
              "      <td>1.0</td>\n",
              "      <td>1.0</td>\n",
              "      <td>5.0</td>\n",
              "    </tr>\n",
              "    <tr>\n",
              "      <th>Bonus_miles</th>\n",
              "      <td>3999.0</td>\n",
              "      <td>17144.846212</td>\n",
              "      <td>24150.967826</td>\n",
              "      <td>0.0</td>\n",
              "      <td>1250.0</td>\n",
              "      <td>7171.0</td>\n",
              "      <td>23800.5</td>\n",
              "      <td>263685.0</td>\n",
              "    </tr>\n",
              "    <tr>\n",
              "      <th>Bonus_trans</th>\n",
              "      <td>3999.0</td>\n",
              "      <td>11.601900</td>\n",
              "      <td>9.603810</td>\n",
              "      <td>0.0</td>\n",
              "      <td>3.0</td>\n",
              "      <td>12.0</td>\n",
              "      <td>17.0</td>\n",
              "      <td>86.0</td>\n",
              "    </tr>\n",
              "    <tr>\n",
              "      <th>Flight_miles_12mo</th>\n",
              "      <td>3999.0</td>\n",
              "      <td>460.055764</td>\n",
              "      <td>1400.209171</td>\n",
              "      <td>0.0</td>\n",
              "      <td>0.0</td>\n",
              "      <td>0.0</td>\n",
              "      <td>311.0</td>\n",
              "      <td>30817.0</td>\n",
              "    </tr>\n",
              "    <tr>\n",
              "      <th>Flight_trans_12</th>\n",
              "      <td>3999.0</td>\n",
              "      <td>1.373593</td>\n",
              "      <td>3.793172</td>\n",
              "      <td>0.0</td>\n",
              "      <td>0.0</td>\n",
              "      <td>0.0</td>\n",
              "      <td>1.0</td>\n",
              "      <td>53.0</td>\n",
              "    </tr>\n",
              "    <tr>\n",
              "      <th>Days_since_enroll</th>\n",
              "      <td>3999.0</td>\n",
              "      <td>4118.559390</td>\n",
              "      <td>2065.134540</td>\n",
              "      <td>2.0</td>\n",
              "      <td>2330.0</td>\n",
              "      <td>4096.0</td>\n",
              "      <td>5790.5</td>\n",
              "      <td>8296.0</td>\n",
              "    </tr>\n",
              "    <tr>\n",
              "      <th>Award</th>\n",
              "      <td>3999.0</td>\n",
              "      <td>0.370343</td>\n",
              "      <td>0.482957</td>\n",
              "      <td>0.0</td>\n",
              "      <td>0.0</td>\n",
              "      <td>0.0</td>\n",
              "      <td>1.0</td>\n",
              "      <td>1.0</td>\n",
              "    </tr>\n",
              "  </tbody>\n",
              "</table>\n",
              "</div>\n",
              "      <button class=\"colab-df-convert\" onclick=\"convertToInteractive('df-96a4ff88-5b7a-4ec1-bd24-70b845ddc797')\"\n",
              "              title=\"Convert this dataframe to an interactive table.\"\n",
              "              style=\"display:none;\">\n",
              "        \n",
              "  <svg xmlns=\"http://www.w3.org/2000/svg\" height=\"24px\"viewBox=\"0 0 24 24\"\n",
              "       width=\"24px\">\n",
              "    <path d=\"M0 0h24v24H0V0z\" fill=\"none\"/>\n",
              "    <path d=\"M18.56 5.44l.94 2.06.94-2.06 2.06-.94-2.06-.94-.94-2.06-.94 2.06-2.06.94zm-11 1L8.5 8.5l.94-2.06 2.06-.94-2.06-.94L8.5 2.5l-.94 2.06-2.06.94zm10 10l.94 2.06.94-2.06 2.06-.94-2.06-.94-.94-2.06-.94 2.06-2.06.94z\"/><path d=\"M17.41 7.96l-1.37-1.37c-.4-.4-.92-.59-1.43-.59-.52 0-1.04.2-1.43.59L10.3 9.45l-7.72 7.72c-.78.78-.78 2.05 0 2.83L4 21.41c.39.39.9.59 1.41.59.51 0 1.02-.2 1.41-.59l7.78-7.78 2.81-2.81c.8-.78.8-2.07 0-2.86zM5.41 20L4 18.59l7.72-7.72 1.47 1.35L5.41 20z\"/>\n",
              "  </svg>\n",
              "      </button>\n",
              "      \n",
              "  <style>\n",
              "    .colab-df-container {\n",
              "      display:flex;\n",
              "      flex-wrap:wrap;\n",
              "      gap: 12px;\n",
              "    }\n",
              "\n",
              "    .colab-df-convert {\n",
              "      background-color: #E8F0FE;\n",
              "      border: none;\n",
              "      border-radius: 50%;\n",
              "      cursor: pointer;\n",
              "      display: none;\n",
              "      fill: #1967D2;\n",
              "      height: 32px;\n",
              "      padding: 0 0 0 0;\n",
              "      width: 32px;\n",
              "    }\n",
              "\n",
              "    .colab-df-convert:hover {\n",
              "      background-color: #E2EBFA;\n",
              "      box-shadow: 0px 1px 2px rgba(60, 64, 67, 0.3), 0px 1px 3px 1px rgba(60, 64, 67, 0.15);\n",
              "      fill: #174EA6;\n",
              "    }\n",
              "\n",
              "    [theme=dark] .colab-df-convert {\n",
              "      background-color: #3B4455;\n",
              "      fill: #D2E3FC;\n",
              "    }\n",
              "\n",
              "    [theme=dark] .colab-df-convert:hover {\n",
              "      background-color: #434B5C;\n",
              "      box-shadow: 0px 1px 3px 1px rgba(0, 0, 0, 0.15);\n",
              "      filter: drop-shadow(0px 1px 2px rgba(0, 0, 0, 0.3));\n",
              "      fill: #FFFFFF;\n",
              "    }\n",
              "  </style>\n",
              "\n",
              "      <script>\n",
              "        const buttonEl =\n",
              "          document.querySelector('#df-96a4ff88-5b7a-4ec1-bd24-70b845ddc797 button.colab-df-convert');\n",
              "        buttonEl.style.display =\n",
              "          google.colab.kernel.accessAllowed ? 'block' : 'none';\n",
              "\n",
              "        async function convertToInteractive(key) {\n",
              "          const element = document.querySelector('#df-96a4ff88-5b7a-4ec1-bd24-70b845ddc797');\n",
              "          const dataTable =\n",
              "            await google.colab.kernel.invokeFunction('convertToInteractive',\n",
              "                                                     [key], {});\n",
              "          if (!dataTable) return;\n",
              "\n",
              "          const docLinkHtml = 'Like what you see? Visit the ' +\n",
              "            '<a target=\"_blank\" href=https://colab.research.google.com/notebooks/data_table.ipynb>data table notebook</a>'\n",
              "            + ' to learn more about interactive tables.';\n",
              "          element.innerHTML = '';\n",
              "          dataTable['output_type'] = 'display_data';\n",
              "          await google.colab.output.renderOutput(dataTable, element);\n",
              "          const docLink = document.createElement('div');\n",
              "          docLink.innerHTML = docLinkHtml;\n",
              "          element.appendChild(docLink);\n",
              "        }\n",
              "      </script>\n",
              "    </div>\n",
              "  </div>\n",
              "  "
            ],
            "text/plain": [
              "                    count          mean  ...      75%        max\n",
              "ID                 3999.0   2014.819455  ...   3020.5     4021.0\n",
              "Balance            3999.0  73601.327582  ...  92404.0  1704838.0\n",
              "Qual_miles         3999.0    144.114529  ...      0.0    11148.0\n",
              "cc1_miles          3999.0      2.059515  ...      3.0        5.0\n",
              "cc2_miles          3999.0      1.014504  ...      1.0        3.0\n",
              "cc3_miles          3999.0      1.012253  ...      1.0        5.0\n",
              "Bonus_miles        3999.0  17144.846212  ...  23800.5   263685.0\n",
              "Bonus_trans        3999.0     11.601900  ...     17.0       86.0\n",
              "Flight_miles_12mo  3999.0    460.055764  ...    311.0    30817.0\n",
              "Flight_trans_12    3999.0      1.373593  ...      1.0       53.0\n",
              "Days_since_enroll  3999.0   4118.559390  ...   5790.5     8296.0\n",
              "Award              3999.0      0.370343  ...      1.0        1.0\n",
              "\n",
              "[12 rows x 8 columns]"
            ]
          },
          "metadata": {},
          "execution_count": 9
        }
      ]
    },
    {
      "cell_type": "code",
      "metadata": {
        "id": "Ju0G4TqVuGoV",
        "colab": {
          "base_uri": "https://localhost:8080/",
          "height": 248
        },
        "outputId": "e1406b44-b098-4423-ab40-036cea053a73"
      },
      "source": [
        "data['Award'].value_counts().plot(kind='pie', autopct='%2.0f%%', fontsize='18', \n",
        "                                        colors = ['#F11A05','#43E206'], shadow =True)\n",
        "plt.show()\n",
        "# Checking previously awarded miles ratio"
      ],
      "execution_count": 10,
      "outputs": [
        {
          "output_type": "display_data",
          "data": {
            "image/png": "[encoded data removed]",
            "text/plain": [
              "<Figure size 432x288 with 1 Axes>"
            ]
          },
          "metadata": {}
        }
      ]
    },
    {
      "cell_type": "code",
      "metadata": {
        "id": "CF5T27P0uGmt",
        "colab": {
          "base_uri": "https://localhost:8080/",
          "height": 362
        },
        "outputId": "5e49a025-4937-4c85-b1da-2a6f18d5a9dc"
      },
      "source": [
        "# Checking relation between Balance and Days_since_enroll\n",
        "import seaborn as sns\n",
        "fig, ax =plt.subplots(figsize=(40,12))\n",
        "ax = sns.lineplot(x= 'Days_since_enroll', y='Balance',data = data)\n"
      ],
      "execution_count": 11,
      "outputs": [
        {
          "output_type": "display_data",
          "data": {
            "image/png": "[encoded data removed]",
            "text/plain": [
              "<Figure size 2880x864 with 1 Axes>"
            ]
          },
          "metadata": {
            "needs_background": "light"
          }
        }
      ]
    },
    {
      "cell_type": "markdown",
      "metadata": {
        "id": "B5sOAhmm2W0I"
      },
      "source": [
        " **AGLOMERATIVE CLUSTERING**"
      ]
    },
    {
      "cell_type": "code",
      "metadata": {
        "id": "0J4t4vfduGjB",
        "colab": {
          "base_uri": "https://localhost:8080/",
          "height": 250
        },
        "outputId": "7bee7c03-8c76-4be5-acc5-2b828e142835"
      },
      "source": [
        "data1 = data.drop('ID', axis = 1)\n",
        "data1.head()"
      ],
      "execution_count": 12,
      "outputs": [
        {
          "output_type": "execute_result",
          "data": {
            "text/html": [
              "\n",
              "  <div id=\"df-4561e858-9add-4531-bce4-fbb0c8a3a317\">\n",
              "    <div class=\"colab-df-container\">\n",
              "      <div>\n",
              "<style scoped>\n",
              "    .dataframe tbody tr th:only-of-type {\n",
              "        vertical-align: middle;\n",
              "    }\n",
              "\n",
              "    .dataframe tbody tr th {\n",
              "        vertical-align: top;\n",
              "    }\n",
              "\n",
              "    .dataframe thead th {\n",
              "        text-align: right;\n",
              "    }\n",
              "</style>\n",
              "<table border=\"1\" class=\"dataframe\">\n",
              "  <thead>\n",
              "    <tr style=\"text-align: right;\">\n",
              "      <th></th>\n",
              "      <th>Balance</th>\n",
              "      <th>Qual_miles</th>\n",
              "      <th>cc1_miles</th>\n",
              "      <th>cc2_miles</th>\n",
              "      <th>cc3_miles</th>\n",
              "      <th>Bonus_miles</th>\n",
              "      <th>Bonus_trans</th>\n",
              "      <th>Flight_miles_12mo</th>\n",
              "      <th>Flight_trans_12</th>\n",
              "      <th>Days_since_enroll</th>\n",
              "      <th>Award</th>\n",
              "    </tr>\n",
              "  </thead>\n",
              "  <tbody>\n",
              "    <tr>\n",
              "      <th>0</th>\n",
              "      <td>28143</td>\n",
              "      <td>0</td>\n",
              "      <td>1</td>\n",
              "      <td>1</td>\n",
              "      <td>1</td>\n",
              "      <td>174</td>\n",
              "      <td>1</td>\n",
              "      <td>0</td>\n",
              "      <td>0</td>\n",
              "      <td>7000</td>\n",
              "      <td>0</td>\n",
              "    </tr>\n",
              "    <tr>\n",
              "      <th>1</th>\n",
              "      <td>19244</td>\n",
              "      <td>0</td>\n",
              "      <td>1</td>\n",
              "      <td>1</td>\n",
              "      <td>1</td>\n",
              "      <td>215</td>\n",
              "      <td>2</td>\n",
              "      <td>0</td>\n",
              "      <td>0</td>\n",
              "      <td>6968</td>\n",
              "      <td>0</td>\n",
              "    </tr>\n",
              "    <tr>\n",
              "      <th>2</th>\n",
              "      <td>41354</td>\n",
              "      <td>0</td>\n",
              "      <td>1</td>\n",
              "      <td>1</td>\n",
              "      <td>1</td>\n",
              "      <td>4123</td>\n",
              "      <td>4</td>\n",
              "      <td>0</td>\n",
              "      <td>0</td>\n",
              "      <td>7034</td>\n",
              "      <td>0</td>\n",
              "    </tr>\n",
              "    <tr>\n",
              "      <th>3</th>\n",
              "      <td>14776</td>\n",
              "      <td>0</td>\n",
              "      <td>1</td>\n",
              "      <td>1</td>\n",
              "      <td>1</td>\n",
              "      <td>500</td>\n",
              "      <td>1</td>\n",
              "      <td>0</td>\n",
              "      <td>0</td>\n",
              "      <td>6952</td>\n",
              "      <td>0</td>\n",
              "    </tr>\n",
              "    <tr>\n",
              "      <th>4</th>\n",
              "      <td>97752</td>\n",
              "      <td>0</td>\n",
              "      <td>4</td>\n",
              "      <td>1</td>\n",
              "      <td>1</td>\n",
              "      <td>43300</td>\n",
              "      <td>26</td>\n",
              "      <td>2077</td>\n",
              "      <td>4</td>\n",
              "      <td>6935</td>\n",
              "      <td>1</td>\n",
              "    </tr>\n",
              "  </tbody>\n",
              "</table>\n",
              "</div>\n",
              "      <button class=\"colab-df-convert\" onclick=\"convertToInteractive('df-4561e858-9add-4531-bce4-fbb0c8a3a317')\"\n",
              "              title=\"Convert this dataframe to an interactive table.\"\n",
              "              style=\"display:none;\">\n",
              "        \n",
              "  <svg xmlns=\"http://www.w3.org/2000/svg\" height=\"24px\"viewBox=\"0 0 24 24\"\n",
              "       width=\"24px\">\n",
              "    <path d=\"M0 0h24v24H0V0z\" fill=\"none\"/>\n",
              "    <path d=\"M18.56 5.44l.94 2.06.94-2.06 2.06-.94-2.06-.94-.94-2.06-.94 2.06-2.06.94zm-11 1L8.5 8.5l.94-2.06 2.06-.94-2.06-.94L8.5 2.5l-.94 2.06-2.06.94zm10 10l.94 2.06.94-2.06 2.06-.94-2.06-.94-.94-2.06-.94 2.06-2.06.94z\"/><path d=\"M17.41 7.96l-1.37-1.37c-.4-.4-.92-.59-1.43-.59-.52 0-1.04.2-1.43.59L10.3 9.45l-7.72 7.72c-.78.78-.78 2.05 0 2.83L4 21.41c.39.39.9.59 1.41.59.51 0 1.02-.2 1.41-.59l7.78-7.78 2.81-2.81c.8-.78.8-2.07 0-2.86zM5.41 20L4 18.59l7.72-7.72 1.47 1.35L5.41 20z\"/>\n",
              "  </svg>\n",
              "      </button>\n",
              "      \n",
              "  <style>\n",
              "    .colab-df-container {\n",
              "      display:flex;\n",
              "      flex-wrap:wrap;\n",
              "      gap: 12px;\n",
              "    }\n",
              "\n",
              "    .colab-df-convert {\n",
              "      background-color: #E8F0FE;\n",
              "      border: none;\n",
              "      border-radius: 50%;\n",
              "      cursor: pointer;\n",
              "      display: none;\n",
              "      fill: #1967D2;\n",
              "      height: 32px;\n",
              "      padding: 0 0 0 0;\n",
              "      width: 32px;\n",
              "    }\n",
              "\n",
              "    .colab-df-convert:hover {\n",
              "      background-color: #E2EBFA;\n",
              "      box-shadow: 0px 1px 2px rgba(60, 64, 67, 0.3), 0px 1px 3px 1px rgba(60, 64, 67, 0.15);\n",
              "      fill: #174EA6;\n",
              "    }\n",
              "\n",
              "    [theme=dark] .colab-df-convert {\n",
              "      background-color: #3B4455;\n",
              "      fill: #D2E3FC;\n",
              "    }\n",
              "\n",
              "    [theme=dark] .colab-df-convert:hover {\n",
              "      background-color: #434B5C;\n",
              "      box-shadow: 0px 1px 3px 1px rgba(0, 0, 0, 0.15);\n",
              "      filter: drop-shadow(0px 1px 2px rgba(0, 0, 0, 0.3));\n",
              "      fill: #FFFFFF;\n",
              "    }\n",
              "  </style>\n",
              "\n",
              "      <script>\n",
              "        const buttonEl =\n",
              "          document.querySelector('#df-4561e858-9add-4531-bce4-fbb0c8a3a317 button.colab-df-convert');\n",
              "        buttonEl.style.display =\n",
              "          google.colab.kernel.accessAllowed ? 'block' : 'none';\n",
              "\n",
              "        async function convertToInteractive(key) {\n",
              "          const element = document.querySelector('#df-4561e858-9add-4531-bce4-fbb0c8a3a317');\n",
              "          const dataTable =\n",
              "            await google.colab.kernel.invokeFunction('convertToInteractive',\n",
              "                                                     [key], {});\n",
              "          if (!dataTable) return;\n",
              "\n",
              "          const docLinkHtml = 'Like what you see? Visit the ' +\n",
              "            '<a target=\"_blank\" href=https://colab.research.google.com/notebooks/data_table.ipynb>data table notebook</a>'\n",
              "            + ' to learn more about interactive tables.';\n",
              "          element.innerHTML = '';\n",
              "          dataTable['output_type'] = 'display_data';\n",
              "          await google.colab.output.renderOutput(dataTable, element);\n",
              "          const docLink = document.createElement('div');\n",
              "          docLink.innerHTML = docLinkHtml;\n",
              "          element.appendChild(docLink);\n",
              "        }\n",
              "      </script>\n",
              "    </div>\n",
              "  </div>\n",
              "  "
            ],
            "text/plain": [
              "   Balance  Qual_miles  cc1_miles  ...  Flight_trans_12  Days_since_enroll  Award\n",
              "0    28143           0          1  ...                0               7000      0\n",
              "1    19244           0          1  ...                0               6968      0\n",
              "2    41354           0          1  ...                0               7034      0\n",
              "3    14776           0          1  ...                0               6952      0\n",
              "4    97752           0          4  ...                4               6935      1\n",
              "\n",
              "[5 rows x 11 columns]"
            ]
          },
          "metadata": {},
          "execution_count": 12
        }
      ]
    },
    {
      "cell_type": "code",
      "metadata": {
        "id": "jd5wLYy1uGhR"
      },
      "source": [
        "from sklearn.preprocessing import MinMaxScaler\n",
        "from sklearn.preprocessing import StandardScaler"
      ],
      "execution_count": 13,
      "outputs": []
    },
    {
      "cell_type": "code",
      "metadata": {
        "id": "0_BfpTa50gXW"
      },
      "source": [
        "#check clustering for two different scaling functions\n",
        "scaler1 = MinMaxScaler()\n",
        "scaler2 = StandardScaler()"
      ],
      "execution_count": 14,
      "outputs": []
    },
    {
      "cell_type": "code",
      "metadata": {
        "colab": {
          "base_uri": "https://localhost:8080/"
        },
        "id": "nUhZYasW0qhg",
        "outputId": "a03d4732-4083-4460-c1d9-fdce9fd95bec"
      },
      "source": [
        "# Normalizing Dataset\n",
        "scaler1_df = scaler1.fit_transform(data1)\n",
        "print(scaler1_df)\n",
        "\n",
        "print('\\n')\n",
        "\n",
        "scaler2_df = scaler2.fit_transform(data1)\n",
        "print(scaler2_df)"
      ],
      "execution_count": 15,
      "outputs": [
        {
          "output_type": "stream",
          "name": "stdout",
          "text": [
            "[[0.01650773 0.         0.         ... 0.         0.84374246 0.        ]\n",
            " [0.01128788 0.         0.         ... 0.         0.83988425 0.        ]\n",
            " [0.02425685 0.         0.         ... 0.         0.84784181 0.        ]\n",
            " ...\n",
            " [0.0431695  0.         0.5        ... 0.         0.16879672 1.        ]\n",
            " [0.03220189 0.         0.         ... 0.01886792 0.16867615 0.        ]\n",
            " [0.00176908 0.         0.         ... 0.         0.16831444 0.        ]]\n",
            "\n",
            "\n",
            "[[-4.51140783e-01 -1.86298687e-01 -7.69578406e-01 ... -3.62167870e-01\n",
            "   1.39545434e+00 -7.66919299e-01]\n",
            " [-5.39456874e-01 -1.86298687e-01 -7.69578406e-01 ... -3.62167870e-01\n",
            "   1.37995704e+00 -7.66919299e-01]\n",
            " [-3.20031232e-01 -1.86298687e-01 -7.69578406e-01 ... -3.62167870e-01\n",
            "   1.41192021e+00 -7.66919299e-01]\n",
            " ...\n",
            " [-4.29480975e-05 -1.86298687e-01  6.83121167e-01 ... -3.62167870e-01\n",
            "  -1.31560393e+00  1.30391816e+00]\n",
            " [-1.85606976e-01 -1.86298687e-01 -7.69578406e-01 ... -9.85033311e-02\n",
            "  -1.31608822e+00 -7.66919299e-01]\n",
            " [-7.00507951e-01 -1.86298687e-01 -7.69578406e-01 ... -3.62167870e-01\n",
            "  -1.31754109e+00 -7.66919299e-01]]\n"
          ]
        }
      ]
    },
    {
      "cell_type": "code",
      "metadata": {
        "colab": {
          "base_uri": "https://localhost:8080/",
          "height": 431
        },
        "id": "N51zfFrZ00zJ",
        "outputId": "82cbb67e-63dc-41ee-a143-5fdb89156b9e"
      },
      "source": [
        "# Create Dendrograms\n",
        "plt.figure(figsize=(10, 7))  \n",
        "dendograms=sch.dendrogram(sch.linkage(scaler1_df,'complete'))"
      ],
      "execution_count": 16,
      "outputs": [
        {
          "output_type": "display_data",
          "data": {
            "image/png": "[encoded data removed]",
            "text/plain": [
              "<Figure size 720x504 with 1 Axes>"
            ]
          },
          "metadata": {
            "needs_background": "light"
          }
        }
      ]
    },
    {
      "cell_type": "code",
      "metadata": {
        "colab": {
          "base_uri": "https://localhost:8080/",
          "height": 431
        },
        "id": "BUnAkJGr09yq",
        "outputId": "89e61353-79d2-4a1b-d0e9-21983b0aa605"
      },
      "source": [
        "plt.figure(figsize=(10, 7))  \n",
        "dendograms=sch.dendrogram(sch.linkage(scaler2_df,'complete'))"
      ],
      "execution_count": 17,
      "outputs": [
        {
          "output_type": "display_data",
          "data": {
            "image/png": "[encoded data removed]",
            "text/plain": [
              "<Figure size 720x504 with 1 Axes>"
            ]
          },
          "metadata": {
            "needs_background": "light"
          }
        }
      ]
    },
    {
      "cell_type": "code",
      "metadata": {
        "colab": {
          "base_uri": "https://localhost:8080/"
        },
        "id": "W7OU79gC1lWG",
        "outputId": "372d5fa1-3c40-42a3-9489-cd890ada80a7"
      },
      "source": [
        "# Creating clusters\n",
        "H_clusters=AgglomerativeClustering(n_clusters=5,affinity='euclidean',linkage='ward')\n",
        "H_clusters"
      ],
      "execution_count": 18,
      "outputs": [
        {
          "output_type": "execute_result",
          "data": {
            "text/plain": [
              "AgglomerativeClustering(n_clusters=5)"
            ]
          },
          "metadata": {},
          "execution_count": 18
        }
      ]
    },
    {
      "cell_type": "code",
      "metadata": {
        "colab": {
          "base_uri": "https://localhost:8080/"
        },
        "id": "iXlibjnm2vnA",
        "outputId": "fe952762-2c96-42ac-92be-fdfd27334ed8"
      },
      "source": [
        "# Using data normalized by MinMaxScaler \n",
        "y=pd.DataFrame(H_clusters.fit_predict(scaler1_df),columns=['clustersid'])\n",
        "y['clustersid'].value_counts()"
      ],
      "execution_count": 19,
      "outputs": [
        {
          "output_type": "execute_result",
          "data": {
            "text/plain": [
              "1    1011\n",
              "0     946\n",
              "2     808\n",
              "4     699\n",
              "3     535\n",
              "Name: clustersid, dtype: int64"
            ]
          },
          "metadata": {},
          "execution_count": 19
        }
      ]
    },
    {
      "cell_type": "code",
      "metadata": {
        "id": "ZYd3kjlG2vkC"
      },
      "source": [
        "# Adding clusters to dataset\n",
        "# 1. cluster id with scaler_1 i.e. minmaxscaler\n",
        "data['clustersid_s1']=H_clusters.labels_\n",
        "data\n",
        "\n",
        "data1['clustersid_s1']=H_clusters.labels_"
      ],
      "execution_count": 20,
      "outputs": []
    },
    {
      "cell_type": "code",
      "metadata": {
        "colab": {
          "base_uri": "https://localhost:8080/",
          "height": 407
        },
        "id": "IFw06K5s2vhW",
        "outputId": "59a52cb1-8f09-4e8e-cfca-804223d647d3"
      },
      "source": [
        "# Plotting barplot using groupby method to get visualization of how many row no. in each cluster\n",
        "\n",
        "fig, ax = plt.subplots(figsize=(10, 6))\n",
        "data.groupby(['clustersid_s1']).count()['ID'].plot(kind='bar')\n",
        "plt.ylabel('ID Counts')\n",
        "plt.title('Hierarchical Clustering',fontsize='large',fontweight='bold')\n",
        "ax.set_xlabel('Clusters', fontsize='large', fontweight='bold')\n",
        "ax.set_ylabel('ID counts', fontsize='large', fontweight='bold')\n",
        "plt.yticks(fontsize=15)\n",
        "plt.xticks(fontsize=15)\n",
        "plt.show()"
      ],
      "execution_count": 21,
      "outputs": [
        {
          "output_type": "display_data",
          "data": {
            "image/png": "[encoded data removed]",
            "text/plain": [
              "<Figure size 720x432 with 1 Axes>"
            ]
          },
          "metadata": {
            "needs_background": "light"
          }
        }
      ]
    },
    {
      "cell_type": "code",
      "metadata": {
        "colab": {
          "base_uri": "https://localhost:8080/",
          "height": 302
        },
        "id": "4_YQrZQ52vfu",
        "outputId": "69f59629-8318-45e7-8501-11d926ba8567"
      },
      "source": [
        "data1.groupby('clustersid_s1').agg(['mean']).reset_index()"
      ],
      "execution_count": 22,
      "outputs": [
        {
          "output_type": "execute_result",
          "data": {
            "text/html": [
              "\n",
              "  <div id=\"df-67e518e2-f8fc-4ef4-8612-359ff64bdd6e\">\n",
              "    <div class=\"colab-df-container\">\n",
              "      <div>\n",
              "<style scoped>\n",
              "    .dataframe tbody tr th:only-of-type {\n",
              "        vertical-align: middle;\n",
              "    }\n",
              "\n",
              "    .dataframe tbody tr th {\n",
              "        vertical-align: top;\n",
              "    }\n",
              "\n",
              "    .dataframe thead tr th {\n",
              "        text-align: left;\n",
              "    }\n",
              "</style>\n",
              "<table border=\"1\" class=\"dataframe\">\n",
              "  <thead>\n",
              "    <tr>\n",
              "      <th></th>\n",
              "      <th>clustersid_s1</th>\n",
              "      <th>Balance</th>\n",
              "      <th>Qual_miles</th>\n",
              "      <th>cc1_miles</th>\n",
              "      <th>cc2_miles</th>\n",
              "      <th>cc3_miles</th>\n",
              "      <th>Bonus_miles</th>\n",
              "      <th>Bonus_trans</th>\n",
              "      <th>Flight_miles_12mo</th>\n",
              "      <th>Flight_trans_12</th>\n",
              "      <th>Days_since_enroll</th>\n",
              "      <th>Award</th>\n",
              "    </tr>\n",
              "    <tr>\n",
              "      <th></th>\n",
              "      <th></th>\n",
              "      <th>mean</th>\n",
              "      <th>mean</th>\n",
              "      <th>mean</th>\n",
              "      <th>mean</th>\n",
              "      <th>mean</th>\n",
              "      <th>mean</th>\n",
              "      <th>mean</th>\n",
              "      <th>mean</th>\n",
              "      <th>mean</th>\n",
              "      <th>mean</th>\n",
              "      <th>mean</th>\n",
              "    </tr>\n",
              "  </thead>\n",
              "  <tbody>\n",
              "    <tr>\n",
              "      <th>0</th>\n",
              "      <td>0</td>\n",
              "      <td>79848.233615</td>\n",
              "      <td>285.097252</td>\n",
              "      <td>1.699789</td>\n",
              "      <td>1.024313</td>\n",
              "      <td>1.000000</td>\n",
              "      <td>12079.774841</td>\n",
              "      <td>12.133192</td>\n",
              "      <td>781.939746</td>\n",
              "      <td>2.369979</td>\n",
              "      <td>4372.173362</td>\n",
              "      <td>1</td>\n",
              "    </tr>\n",
              "    <tr>\n",
              "      <th>1</th>\n",
              "      <td>1</td>\n",
              "      <td>43313.653808</td>\n",
              "      <td>21.506429</td>\n",
              "      <td>1.000000</td>\n",
              "      <td>1.033630</td>\n",
              "      <td>1.000989</td>\n",
              "      <td>2562.614243</td>\n",
              "      <td>5.474777</td>\n",
              "      <td>169.510386</td>\n",
              "      <td>0.523244</td>\n",
              "      <td>4940.680514</td>\n",
              "      <td>0</td>\n",
              "    </tr>\n",
              "    <tr>\n",
              "      <th>2</th>\n",
              "      <td>2</td>\n",
              "      <td>106221.111386</td>\n",
              "      <td>161.262376</td>\n",
              "      <td>3.198020</td>\n",
              "      <td>1.001238</td>\n",
              "      <td>1.025990</td>\n",
              "      <td>26458.257426</td>\n",
              "      <td>16.363861</td>\n",
              "      <td>198.733911</td>\n",
              "      <td>0.558168</td>\n",
              "      <td>4367.250000</td>\n",
              "      <td>0</td>\n",
              "    </tr>\n",
              "    <tr>\n",
              "      <th>3</th>\n",
              "      <td>3</td>\n",
              "      <td>127475.028037</td>\n",
              "      <td>160.801869</td>\n",
              "      <td>4.362617</td>\n",
              "      <td>1.000000</td>\n",
              "      <td>1.050467</td>\n",
              "      <td>58656.919626</td>\n",
              "      <td>22.235514</td>\n",
              "      <td>991.110280</td>\n",
              "      <td>3.005607</td>\n",
              "      <td>5072.226168</td>\n",
              "      <td>1</td>\n",
              "    </tr>\n",
              "    <tr>\n",
              "      <th>4</th>\n",
              "      <td>4</td>\n",
              "      <td>30013.416309</td>\n",
              "      <td>98.054363</td>\n",
              "      <td>1.000000</td>\n",
              "      <td>1.000000</td>\n",
              "      <td>1.000000</td>\n",
              "      <td>2552.569385</td>\n",
              "      <td>6.101574</td>\n",
              "      <td>340.274678</td>\n",
              "      <td>0.948498</td>\n",
              "      <td>1568.864092</td>\n",
              "      <td>0</td>\n",
              "    </tr>\n",
              "  </tbody>\n",
              "</table>\n",
              "</div>\n",
              "      <button class=\"colab-df-convert\" onclick=\"convertToInteractive('df-67e518e2-f8fc-4ef4-8612-359ff64bdd6e')\"\n",
              "              title=\"Convert this dataframe to an interactive table.\"\n",
              "              style=\"display:none;\">\n",
              "        \n",
              "  <svg xmlns=\"http://www.w3.org/2000/svg\" height=\"24px\"viewBox=\"0 0 24 24\"\n",
              "       width=\"24px\">\n",
              "    <path d=\"M0 0h24v24H0V0z\" fill=\"none\"/>\n",
              "    <path d=\"M18.56 5.44l.94 2.06.94-2.06 2.06-.94-2.06-.94-.94-2.06-.94 2.06-2.06.94zm-11 1L8.5 8.5l.94-2.06 2.06-.94-2.06-.94L8.5 2.5l-.94 2.06-2.06.94zm10 10l.94 2.06.94-2.06 2.06-.94-2.06-.94-.94-2.06-.94 2.06-2.06.94z\"/><path d=\"M17.41 7.96l-1.37-1.37c-.4-.4-.92-.59-1.43-.59-.52 0-1.04.2-1.43.59L10.3 9.45l-7.72 7.72c-.78.78-.78 2.05 0 2.83L4 21.41c.39.39.9.59 1.41.59.51 0 1.02-.2 1.41-.59l7.78-7.78 2.81-2.81c.8-.78.8-2.07 0-2.86zM5.41 20L4 18.59l7.72-7.72 1.47 1.35L5.41 20z\"/>\n",
              "  </svg>\n",
              "      </button>\n",
              "      \n",
              "  <style>\n",
              "    .colab-df-container {\n",
              "      display:flex;\n",
              "      flex-wrap:wrap;\n",
              "      gap: 12px;\n",
              "    }\n",
              "\n",
              "    .colab-df-convert {\n",
              "      background-color: #E8F0FE;\n",
              "      border: none;\n",
              "      border-radius: 50%;\n",
              "      cursor: pointer;\n",
              "      display: none;\n",
              "      fill: #1967D2;\n",
              "      height: 32px;\n",
              "      padding: 0 0 0 0;\n",
              "      width: 32px;\n",
              "    }\n",
              "\n",
              "    .colab-df-convert:hover {\n",
              "      background-color: #E2EBFA;\n",
              "      box-shadow: 0px 1px 2px rgba(60, 64, 67, 0.3), 0px 1px 3px 1px rgba(60, 64, 67, 0.15);\n",
              "      fill: #174EA6;\n",
              "    }\n",
              "\n",
              "    [theme=dark] .colab-df-convert {\n",
              "      background-color: #3B4455;\n",
              "      fill: #D2E3FC;\n",
              "    }\n",
              "\n",
              "    [theme=dark] .colab-df-convert:hover {\n",
              "      background-color: #434B5C;\n",
              "      box-shadow: 0px 1px 3px 1px rgba(0, 0, 0, 0.15);\n",
              "      filter: drop-shadow(0px 1px 2px rgba(0, 0, 0, 0.3));\n",
              "      fill: #FFFFFF;\n",
              "    }\n",
              "  </style>\n",
              "\n",
              "      <script>\n",
              "        const buttonEl =\n",
              "          document.querySelector('#df-67e518e2-f8fc-4ef4-8612-359ff64bdd6e button.colab-df-convert');\n",
              "        buttonEl.style.display =\n",
              "          google.colab.kernel.accessAllowed ? 'block' : 'none';\n",
              "\n",
              "        async function convertToInteractive(key) {\n",
              "          const element = document.querySelector('#df-67e518e2-f8fc-4ef4-8612-359ff64bdd6e');\n",
              "          const dataTable =\n",
              "            await google.colab.kernel.invokeFunction('convertToInteractive',\n",
              "                                                     [key], {});\n",
              "          if (!dataTable) return;\n",
              "\n",
              "          const docLinkHtml = 'Like what you see? Visit the ' +\n",
              "            '<a target=\"_blank\" href=https://colab.research.google.com/notebooks/data_table.ipynb>data table notebook</a>'\n",
              "            + ' to learn more about interactive tables.';\n",
              "          element.innerHTML = '';\n",
              "          dataTable['output_type'] = 'display_data';\n",
              "          await google.colab.output.renderOutput(dataTable, element);\n",
              "          const docLink = document.createElement('div');\n",
              "          docLink.innerHTML = docLinkHtml;\n",
              "          element.appendChild(docLink);\n",
              "        }\n",
              "      </script>\n",
              "    </div>\n",
              "  </div>\n",
              "  "
            ],
            "text/plain": [
              "  clustersid_s1        Balance  ... Days_since_enroll Award\n",
              "                          mean  ...              mean  mean\n",
              "0             0   79848.233615  ...       4372.173362     1\n",
              "1             1   43313.653808  ...       4940.680514     0\n",
              "2             2  106221.111386  ...       4367.250000     0\n",
              "3             3  127475.028037  ...       5072.226168     1\n",
              "4             4   30013.416309  ...       1568.864092     0\n",
              "\n",
              "[5 rows x 12 columns]"
            ]
          },
          "metadata": {},
          "execution_count": 22
        }
      ]
    },
    {
      "cell_type": "code",
      "metadata": {
        "id": "EvRCyRro2vc2"
      },
      "source": [
        "# silhouette_score of AgglomerativeClustering\n",
        "from sklearn.metrics import silhouette_score"
      ],
      "execution_count": 23,
      "outputs": []
    },
    {
      "cell_type": "code",
      "metadata": {
        "colab": {
          "base_uri": "https://localhost:8080/"
        },
        "id": "prB5jclR2vao",
        "outputId": "74084d81-a910-474b-febb-2a25c2d8f408"
      },
      "source": [
        "sil_score= silhouette_score(scaler1_df, H_clusters.labels_)\n",
        "sil_score"
      ],
      "execution_count": 24,
      "outputs": [
        {
          "output_type": "execute_result",
          "data": {
            "text/plain": [
              "0.3762586351398372"
            ]
          },
          "metadata": {},
          "execution_count": 24
        }
      ]
    },
    {
      "cell_type": "code",
      "metadata": {
        "colab": {
          "base_uri": "https://localhost:8080/"
        },
        "id": "BkbRp23L2vXW",
        "outputId": "37d27cc5-5c71-4af2-e470-cedd47a2d3a8"
      },
      "source": [
        "# Using data normalized by StandardScaler\n",
        "y=pd.DataFrame(H_clusters.fit_predict(scaler2_df),columns=['clustersid'])\n",
        "y['clustersid'].value_counts()"
      ],
      "execution_count": 25,
      "outputs": [
        {
          "output_type": "execute_result",
          "data": {
            "text/plain": [
              "1    2446\n",
              "0    1362\n",
              "2     130\n",
              "3      43\n",
              "4      18\n",
              "Name: clustersid, dtype: int64"
            ]
          },
          "metadata": {},
          "execution_count": 25
        }
      ]
    },
    {
      "cell_type": "code",
      "metadata": {
        "id": "b2z-K-IG2vVz"
      },
      "source": [
        "# Adding clusters to dataset\n",
        "# 1. cluster id with scaler_1 i.e. StandardScaler\n",
        "data['clustersid_s2']=H_clusters.labels_\n",
        "data1['clustersid_s2']=H_clusters.labels_"
      ],
      "execution_count": 26,
      "outputs": []
    },
    {
      "cell_type": "code",
      "metadata": {
        "colab": {
          "base_uri": "https://localhost:8080/",
          "height": 407
        },
        "id": "ANLX4K5W3sED",
        "outputId": "396c0e5d-62da-487e-91a8-ab978e1778c7"
      },
      "source": [
        "# Plotting barplot using groupby method to get visualization of how many row no. in each cluster\n",
        "\n",
        "fig, ax = plt.subplots(figsize=(10, 6))\n",
        "data.groupby(['clustersid_s2']).count()['ID'].plot(kind='bar')\n",
        "plt.ylabel('ID Counts')\n",
        "plt.title('Hierarchical Clustering',fontsize='large',fontweight='bold')\n",
        "ax.set_xlabel('Clusters', fontsize='large', fontweight='bold')\n",
        "ax.set_ylabel('ID counts', fontsize='large', fontweight='bold')\n",
        "plt.yticks(fontsize=15)\n",
        "plt.xticks(fontsize=15)\n",
        "plt.show()\n"
      ],
      "execution_count": 27,
      "outputs": [
        {
          "output_type": "display_data",
          "data": {
            "image/png": "[encoded data removed]",
            "text/plain": [
              "<Figure size 720x432 with 1 Axes>"
            ]
          },
          "metadata": {
            "needs_background": "light"
          }
        }
      ]
    },
    {
      "cell_type": "code",
      "metadata": {
        "colab": {
          "base_uri": "https://localhost:8080/",
          "height": 302
        },
        "id": "eaXk9-Me3z9s",
        "outputId": "61887008-c68c-47f5-fd85-2db1998afee9"
      },
      "source": [
        "data1.groupby('clustersid_s1').agg(['mean']).reset_index()"
      ],
      "execution_count": 28,
      "outputs": [
        {
          "output_type": "execute_result",
          "data": {
            "text/html": [
              "\n",
              "  <div id=\"df-3ddf280d-ceea-4d22-90bc-6c496a018a2c\">\n",
              "    <div class=\"colab-df-container\">\n",
              "      <div>\n",
              "<style scoped>\n",
              "    .dataframe tbody tr th:only-of-type {\n",
              "        vertical-align: middle;\n",
              "    }\n",
              "\n",
              "    .dataframe tbody tr th {\n",
              "        vertical-align: top;\n",
              "    }\n",
              "\n",
              "    .dataframe thead tr th {\n",
              "        text-align: left;\n",
              "    }\n",
              "</style>\n",
              "<table border=\"1\" class=\"dataframe\">\n",
              "  <thead>\n",
              "    <tr>\n",
              "      <th></th>\n",
              "      <th>clustersid_s1</th>\n",
              "      <th>Balance</th>\n",
              "      <th>Qual_miles</th>\n",
              "      <th>cc1_miles</th>\n",
              "      <th>cc2_miles</th>\n",
              "      <th>cc3_miles</th>\n",
              "      <th>Bonus_miles</th>\n",
              "      <th>Bonus_trans</th>\n",
              "      <th>Flight_miles_12mo</th>\n",
              "      <th>Flight_trans_12</th>\n",
              "      <th>Days_since_enroll</th>\n",
              "      <th>Award</th>\n",
              "      <th>clustersid_s2</th>\n",
              "    </tr>\n",
              "    <tr>\n",
              "      <th></th>\n",
              "      <th></th>\n",
              "      <th>mean</th>\n",
              "      <th>mean</th>\n",
              "      <th>mean</th>\n",
              "      <th>mean</th>\n",
              "      <th>mean</th>\n",
              "      <th>mean</th>\n",
              "      <th>mean</th>\n",
              "      <th>mean</th>\n",
              "      <th>mean</th>\n",
              "      <th>mean</th>\n",
              "      <th>mean</th>\n",
              "      <th>mean</th>\n",
              "    </tr>\n",
              "  </thead>\n",
              "  <tbody>\n",
              "    <tr>\n",
              "      <th>0</th>\n",
              "      <td>0</td>\n",
              "      <td>79848.233615</td>\n",
              "      <td>285.097252</td>\n",
              "      <td>1.699789</td>\n",
              "      <td>1.024313</td>\n",
              "      <td>1.000000</td>\n",
              "      <td>12079.774841</td>\n",
              "      <td>12.133192</td>\n",
              "      <td>781.939746</td>\n",
              "      <td>2.369979</td>\n",
              "      <td>4372.173362</td>\n",
              "      <td>1</td>\n",
              "      <td>0.627907</td>\n",
              "    </tr>\n",
              "    <tr>\n",
              "      <th>1</th>\n",
              "      <td>1</td>\n",
              "      <td>43313.653808</td>\n",
              "      <td>21.506429</td>\n",
              "      <td>1.000000</td>\n",
              "      <td>1.033630</td>\n",
              "      <td>1.000989</td>\n",
              "      <td>2562.614243</td>\n",
              "      <td>5.474777</td>\n",
              "      <td>169.510386</td>\n",
              "      <td>0.523244</td>\n",
              "      <td>4940.680514</td>\n",
              "      <td>0</td>\n",
              "      <td>1.044510</td>\n",
              "    </tr>\n",
              "    <tr>\n",
              "      <th>2</th>\n",
              "      <td>2</td>\n",
              "      <td>106221.111386</td>\n",
              "      <td>161.262376</td>\n",
              "      <td>3.198020</td>\n",
              "      <td>1.001238</td>\n",
              "      <td>1.025990</td>\n",
              "      <td>26458.257426</td>\n",
              "      <td>16.363861</td>\n",
              "      <td>198.733911</td>\n",
              "      <td>0.558168</td>\n",
              "      <td>4367.250000</td>\n",
              "      <td>0</td>\n",
              "      <td>0.507426</td>\n",
              "    </tr>\n",
              "    <tr>\n",
              "      <th>3</th>\n",
              "      <td>3</td>\n",
              "      <td>127475.028037</td>\n",
              "      <td>160.801869</td>\n",
              "      <td>4.362617</td>\n",
              "      <td>1.000000</td>\n",
              "      <td>1.050467</td>\n",
              "      <td>58656.919626</td>\n",
              "      <td>22.235514</td>\n",
              "      <td>991.110280</td>\n",
              "      <td>3.005607</td>\n",
              "      <td>5072.226168</td>\n",
              "      <td>1</td>\n",
              "      <td>0.261682</td>\n",
              "    </tr>\n",
              "    <tr>\n",
              "      <th>4</th>\n",
              "      <td>4</td>\n",
              "      <td>30013.416309</td>\n",
              "      <td>98.054363</td>\n",
              "      <td>1.000000</td>\n",
              "      <td>1.000000</td>\n",
              "      <td>1.000000</td>\n",
              "      <td>2552.569385</td>\n",
              "      <td>6.101574</td>\n",
              "      <td>340.274678</td>\n",
              "      <td>0.948498</td>\n",
              "      <td>1568.864092</td>\n",
              "      <td>0</td>\n",
              "      <td>1.011445</td>\n",
              "    </tr>\n",
              "  </tbody>\n",
              "</table>\n",
              "</div>\n",
              "      <button class=\"colab-df-convert\" onclick=\"convertToInteractive('df-3ddf280d-ceea-4d22-90bc-6c496a018a2c')\"\n",
              "              title=\"Convert this dataframe to an interactive table.\"\n",
              "              style=\"display:none;\">\n",
              "        \n",
              "  <svg xmlns=\"http://www.w3.org/2000/svg\" height=\"24px\"viewBox=\"0 0 24 24\"\n",
              "       width=\"24px\">\n",
              "    <path d=\"M0 0h24v24H0V0z\" fill=\"none\"/>\n",
              "    <path d=\"M18.56 5.44l.94 2.06.94-2.06 2.06-.94-2.06-.94-.94-2.06-.94 2.06-2.06.94zm-11 1L8.5 8.5l.94-2.06 2.06-.94-2.06-.94L8.5 2.5l-.94 2.06-2.06.94zm10 10l.94 2.06.94-2.06 2.06-.94-2.06-.94-.94-2.06-.94 2.06-2.06.94z\"/><path d=\"M17.41 7.96l-1.37-1.37c-.4-.4-.92-.59-1.43-.59-.52 0-1.04.2-1.43.59L10.3 9.45l-7.72 7.72c-.78.78-.78 2.05 0 2.83L4 21.41c.39.39.9.59 1.41.59.51 0 1.02-.2 1.41-.59l7.78-7.78 2.81-2.81c.8-.78.8-2.07 0-2.86zM5.41 20L4 18.59l7.72-7.72 1.47 1.35L5.41 20z\"/>\n",
              "  </svg>\n",
              "      </button>\n",
              "      \n",
              "  <style>\n",
              "    .colab-df-container {\n",
              "      display:flex;\n",
              "      flex-wrap:wrap;\n",
              "      gap: 12px;\n",
              "    }\n",
              "\n",
              "    .colab-df-convert {\n",
              "      background-color: #E8F0FE;\n",
              "      border: none;\n",
              "      border-radius: 50%;\n",
              "      cursor: pointer;\n",
              "      display: none;\n",
              "      fill: #1967D2;\n",
              "      height: 32px;\n",
              "      padding: 0 0 0 0;\n",
              "      width: 32px;\n",
              "    }\n",
              "\n",
              "    .colab-df-convert:hover {\n",
              "      background-color: #E2EBFA;\n",
              "      box-shadow: 0px 1px 2px rgba(60, 64, 67, 0.3), 0px 1px 3px 1px rgba(60, 64, 67, 0.15);\n",
              "      fill: #174EA6;\n",
              "    }\n",
              "\n",
              "    [theme=dark] .colab-df-convert {\n",
              "      background-color: #3B4455;\n",
              "      fill: #D2E3FC;\n",
              "    }\n",
              "\n",
              "    [theme=dark] .colab-df-convert:hover {\n",
              "      background-color: #434B5C;\n",
              "      box-shadow: 0px 1px 3px 1px rgba(0, 0, 0, 0.15);\n",
              "      filter: drop-shadow(0px 1px 2px rgba(0, 0, 0, 0.3));\n",
              "      fill: #FFFFFF;\n",
              "    }\n",
              "  </style>\n",
              "\n",
              "      <script>\n",
              "        const buttonEl =\n",
              "          document.querySelector('#df-3ddf280d-ceea-4d22-90bc-6c496a018a2c button.colab-df-convert');\n",
              "        buttonEl.style.display =\n",
              "          google.colab.kernel.accessAllowed ? 'block' : 'none';\n",
              "\n",
              "        async function convertToInteractive(key) {\n",
              "          const element = document.querySelector('#df-3ddf280d-ceea-4d22-90bc-6c496a018a2c');\n",
              "          const dataTable =\n",
              "            await google.colab.kernel.invokeFunction('convertToInteractive',\n",
              "                                                     [key], {});\n",
              "          if (!dataTable) return;\n",
              "\n",
              "          const docLinkHtml = 'Like what you see? Visit the ' +\n",
              "            '<a target=\"_blank\" href=https://colab.research.google.com/notebooks/data_table.ipynb>data table notebook</a>'\n",
              "            + ' to learn more about interactive tables.';\n",
              "          element.innerHTML = '';\n",
              "          dataTable['output_type'] = 'display_data';\n",
              "          await google.colab.output.renderOutput(dataTable, element);\n",
              "          const docLink = document.createElement('div');\n",
              "          docLink.innerHTML = docLinkHtml;\n",
              "          element.appendChild(docLink);\n",
              "        }\n",
              "      </script>\n",
              "    </div>\n",
              "  </div>\n",
              "  "
            ],
            "text/plain": [
              "  clustersid_s1        Balance  ... Award clustersid_s2\n",
              "                          mean  ...  mean          mean\n",
              "0             0   79848.233615  ...     1      0.627907\n",
              "1             1   43313.653808  ...     0      1.044510\n",
              "2             2  106221.111386  ...     0      0.507426\n",
              "3             3  127475.028037  ...     1      0.261682\n",
              "4             4   30013.416309  ...     0      1.011445\n",
              "\n",
              "[5 rows x 13 columns]"
            ]
          },
          "metadata": {},
          "execution_count": 28
        }
      ]
    },
    {
      "cell_type": "code",
      "metadata": {
        "colab": {
          "base_uri": "https://localhost:8080/"
        },
        "id": "P9OwjVNg343e",
        "outputId": "f57c9af7-86f3-4c97-b0c9-1044f08709f4"
      },
      "source": [
        "# silhouette_score of AgglomerativeClustering\n",
        "from sklearn.metrics import silhouette_score\n",
        "\n",
        "sil_score= silhouette_score(scaler2_df, H_clusters.labels_)\n",
        "sil_score"
      ],
      "execution_count": 29,
      "outputs": [
        {
          "output_type": "execute_result",
          "data": {
            "text/plain": [
              "0.3098805307874414"
            ]
          },
          "metadata": {},
          "execution_count": 29
        }
      ]
    },
    {
      "cell_type": "markdown",
      "metadata": {
        "id": "DhtgOUIx4DzN"
      },
      "source": [
        "**K-MEANS CLUSTERING**"
      ]
    },
    {
      "cell_type": "code",
      "metadata": {
        "id": "Na9NM_XA39YG"
      },
      "source": [
        "# Import Library\n",
        "from sklearn.cluster import KMeans\n",
        "from yellowbrick.cluster import KElbowVisualizer"
      ],
      "execution_count": 30,
      "outputs": []
    },
    {
      "cell_type": "code",
      "metadata": {
        "id": "IyjkEwDF4YVL"
      },
      "source": [
        "scaler1 = MinMaxScaler()\n",
        "scaler2 = StandardScaler()"
      ],
      "execution_count": 31,
      "outputs": []
    },
    {
      "cell_type": "code",
      "metadata": {
        "colab": {
          "base_uri": "https://localhost:8080/"
        },
        "id": "BFc_Es2C4a9_",
        "outputId": "e9d3599e-e58e-468f-b8d8-69de1a6c932e"
      },
      "source": [
        "# Normalizing Dataset\n",
        "scaler1_df = scaler1.fit_transform(data1)\n",
        "print(scaler1_df)\n",
        "\n",
        "print('\\n')\n",
        "\n",
        "scaler2_df = scaler2.fit_transform(data1)\n",
        "print(scaler2_df)"
      ],
      "execution_count": 32,
      "outputs": [
        {
          "output_type": "stream",
          "name": "stdout",
          "text": [
            "[[0.01650773 0.         0.         ... 0.         0.25       0.25      ]\n",
            " [0.01128788 0.         0.         ... 0.         0.25       0.25      ]\n",
            " [0.02425685 0.         0.         ... 0.         0.25       0.25      ]\n",
            " ...\n",
            " [0.0431695  0.         0.5        ... 1.         0.         0.        ]\n",
            " [0.03220189 0.         0.         ... 0.         1.         0.25      ]\n",
            " [0.00176908 0.         0.         ... 0.         1.         0.25      ]]\n",
            "\n",
            "\n",
            "[[-4.51140783e-01 -1.86298687e-01 -7.69578406e-01 ... -7.66919299e-01\n",
            "  -5.39219215e-01  4.41786398e-01]\n",
            " [-5.39456874e-01 -1.86298687e-01 -7.69578406e-01 ... -7.66919299e-01\n",
            "  -5.39219215e-01  4.41786398e-01]\n",
            " [-3.20031232e-01 -1.86298687e-01 -7.69578406e-01 ... -7.66919299e-01\n",
            "  -5.39219215e-01  4.41786398e-01]\n",
            " ...\n",
            " [-4.29480975e-05 -1.86298687e-01  6.83121167e-01 ...  1.30391816e+00\n",
            "  -1.25111675e+00 -1.17607423e+00]\n",
            " [-1.85606976e-01 -1.86298687e-01 -7.69578406e-01 ... -7.66919299e-01\n",
            "   1.59647340e+00  4.41786398e-01]\n",
            " [-7.00507951e-01 -1.86298687e-01 -7.69578406e-01 ... -7.66919299e-01\n",
            "   1.59647340e+00  4.41786398e-01]]\n"
          ]
        }
      ]
    },
    {
      "cell_type": "code",
      "metadata": {
        "colab": {
          "base_uri": "https://localhost:8080/",
          "height": 376
        },
        "id": "kWY_gp214qfF",
        "outputId": "0bb234b0-40e3-459a-baee-df273d0631c5"
      },
      "source": [
        "# Using data normalized by MinMaxScaler\n",
        "wcss = []\n",
        "for i in range(1, 11):\n",
        "    kmeans = KMeans(n_clusters=i,random_state=0)\n",
        "    kmeans.fit(scaler1_df)\n",
        "    wcss.append(kmeans.inertia_)\n",
        "    \n",
        "plt.plot(range(1, 11), wcss)\n",
        "plt.title('Elbow Method')\n",
        "plt.xlabel('Number of clusters')\n",
        "plt.ylabel('WCSS')\n",
        "plt.show()\n"
      ],
      "execution_count": 33,
      "outputs": [
        {
          "output_type": "display_data",
          "data": {
            "image/png": "[encoded data removed]",
            "text/plain": [
              "<Figure size 576x396 with 1 Axes>"
            ]
          },
          "metadata": {}
        }
      ]
    },
    {
      "cell_type": "code",
      "metadata": {
        "colab": {
          "base_uri": "https://localhost:8080/",
          "height": 376
        },
        "id": "zwr3jYRB4yoW",
        "outputId": "ac9b5510-7088-4186-e7fa-107c6b82542d"
      },
      "source": [
        "# Using data normalized by StandardScaler\n",
        "wcss = []\n",
        "for i in range(1, 11):\n",
        "    kmeans = KMeans(n_clusters=i,random_state=0)\n",
        "    kmeans.fit(scaler2_df)\n",
        "    wcss.append(kmeans.inertia_)\n",
        "    \n",
        "plt.plot(range(1, 11), wcss)\n",
        "plt.title('Elbow Method')\n",
        "plt.xlabel('Number of clusters')\n",
        "plt.ylabel('WCSS')\n",
        "plt.show()"
      ],
      "execution_count": 34,
      "outputs": [
        {
          "output_type": "display_data",
          "data": {
            "image/png": "[encoded data removed]",
            "text/plain": [
              "<Figure size 576x396 with 1 Axes>"
            ]
          },
          "metadata": {}
        }
      ]
    },
    {
      "cell_type": "markdown",
      "metadata": {
        "id": "i9I_FJuH5CYB"
      },
      "source": [
        "**From above two Scree plots, optimum number of clusters can be selected equal to 5**"
      ]
    },
    {
      "cell_type": "code",
      "metadata": {
        "colab": {
          "base_uri": "https://localhost:8080/"
        },
        "id": "iFRSUi7F43RK",
        "outputId": "4e712c93-02e6-4207-a82b-37555aef4acd"
      },
      "source": [
        "#Build Cluster algorithm\n",
        "\n",
        "\n",
        "# Using data normalized by MinMaxScaler\n",
        "clusters_new1 = KMeans(5, random_state=42)\n",
        "clusters_new1.fit(scaler1_df)\n",
        "\n",
        "sil_score= silhouette_score(scaler1_df, clusters_new1.labels_)\n",
        "print('Silhouette Score for data normalized by MinMaxScaler: ',sil_score)\n",
        "\n",
        "# Using data normalized by StandardScaler\n",
        "clusters_new2 = KMeans(5, random_state=42)\n",
        "clusters_new2.fit(scaler2_df)\n",
        "\n",
        "sil_score= silhouette_score(scaler2_df, clusters_new2.labels_)\n",
        "print('Silhouette Score for data normalized by StandardScaler: ',sil_score)"
      ],
      "execution_count": 35,
      "outputs": [
        {
          "output_type": "stream",
          "name": "stdout",
          "text": [
            "Silhouette Score for data normalized by MinMaxScaler:  0.5578853150250931\n",
            "Silhouette Score for data normalized by StandardScaler:  0.3294874511326423\n"
          ]
        }
      ]
    },
    {
      "cell_type": "code",
      "metadata": {
        "id": "jjyY7Gtd5M8U"
      },
      "source": [
        "#Assign clusters to the data set\n",
        "data['clusterid_Kmeans'] = clusters_new1.labels_\n",
        "data1['clusterid_Kmeans'] = clusters_new1.labels_"
      ],
      "execution_count": 36,
      "outputs": []
    },
    {
      "cell_type": "code",
      "metadata": {
        "colab": {
          "base_uri": "https://localhost:8080/"
        },
        "id": "oj0ah-oK5QyR",
        "outputId": "3735d695-ff64-41ac-c189-bed287dd40e9"
      },
      "source": [
        "y=pd.DataFrame(clusters_new1.fit_predict(scaler1_df),columns=['clusterid_Kmeans'])\n",
        "y['clusterid_Kmeans'].value_counts()"
      ],
      "execution_count": 37,
      "outputs": [
        {
          "output_type": "execute_result",
          "data": {
            "text/plain": [
              "1    1194\n",
              "0     948\n",
              "3     699\n",
              "4     625\n",
              "2     533\n",
              "Name: clusterid_Kmeans, dtype: int64"
            ]
          },
          "metadata": {},
          "execution_count": 37
        }
      ]
    },
    {
      "cell_type": "code",
      "metadata": {
        "colab": {
          "base_uri": "https://localhost:8080/",
          "height": 408
        },
        "id": "oEgCBlAb5S7e",
        "outputId": "47419b9b-9110-4f8b-e363-926b5705d7e9"
      },
      "source": [
        "# Plotting barplot using groupby method to get visualization of how many row no. in each cluster\n",
        "\n",
        "fig, ax = plt.subplots(figsize=(10, 6))\n",
        "data.groupby(['clusterid_Kmeans']).count()['ID'].plot(kind='bar')\n",
        "plt.ylabel('ID Counts')\n",
        "plt.title('Hierarchical Clustering',fontsize='large',fontweight='bold')\n",
        "ax.set_xlabel('Clusters', fontsize='large', fontweight='bold')\n",
        "ax.set_ylabel('ID counts', fontsize='large', fontweight='bold')\n",
        "plt.yticks(fontsize=15)\n",
        "plt.xticks(fontsize=15)\n",
        "plt.show()"
      ],
      "execution_count": 38,
      "outputs": [
        {
          "output_type": "display_data",
          "data": {
            "image/png": "[encoded data removed]",
            "text/plain": [
              "<Figure size 720x432 with 1 Axes>"
            ]
          },
          "metadata": {}
        }
      ]
    },
    {
      "cell_type": "code",
      "metadata": {
        "colab": {
          "base_uri": "https://localhost:8080/",
          "height": 302
        },
        "id": "ILj0LRWA5V0V",
        "outputId": "b513b6da-29ec-4d67-b1b4-f674f9640111"
      },
      "source": [
        "data1.groupby('clusterid_Kmeans').agg(['mean']).reset_index()"
      ],
      "execution_count": 39,
      "outputs": [
        {
          "output_type": "execute_result",
          "data": {
            "text/html": [
              "\n",
              "  <div id=\"df-32b825e1-3425-41d1-a2e8-360b6fc64705\">\n",
              "    <div class=\"colab-df-container\">\n",
              "      <div>\n",
              "<style scoped>\n",
              "    .dataframe tbody tr th:only-of-type {\n",
              "        vertical-align: middle;\n",
              "    }\n",
              "\n",
              "    .dataframe tbody tr th {\n",
              "        vertical-align: top;\n",
              "    }\n",
              "\n",
              "    .dataframe thead tr th {\n",
              "        text-align: left;\n",
              "    }\n",
              "</style>\n",
              "<table border=\"1\" class=\"dataframe\">\n",
              "  <thead>\n",
              "    <tr>\n",
              "      <th></th>\n",
              "      <th>clusterid_Kmeans</th>\n",
              "      <th>Balance</th>\n",
              "      <th>Qual_miles</th>\n",
              "      <th>cc1_miles</th>\n",
              "      <th>cc2_miles</th>\n",
              "      <th>cc3_miles</th>\n",
              "      <th>Bonus_miles</th>\n",
              "      <th>Bonus_trans</th>\n",
              "      <th>Flight_miles_12mo</th>\n",
              "      <th>Flight_trans_12</th>\n",
              "      <th>Days_since_enroll</th>\n",
              "      <th>Award</th>\n",
              "      <th>clustersid_s1</th>\n",
              "      <th>clustersid_s2</th>\n",
              "    </tr>\n",
              "    <tr>\n",
              "      <th></th>\n",
              "      <th></th>\n",
              "      <th>mean</th>\n",
              "      <th>mean</th>\n",
              "      <th>mean</th>\n",
              "      <th>mean</th>\n",
              "      <th>mean</th>\n",
              "      <th>mean</th>\n",
              "      <th>mean</th>\n",
              "      <th>mean</th>\n",
              "      <th>mean</th>\n",
              "      <th>mean</th>\n",
              "      <th>mean</th>\n",
              "      <th>mean</th>\n",
              "      <th>mean</th>\n",
              "    </tr>\n",
              "  </thead>\n",
              "  <tbody>\n",
              "    <tr>\n",
              "      <th>0</th>\n",
              "      <td>0</td>\n",
              "      <td>80071.828059</td>\n",
              "      <td>276.433544</td>\n",
              "      <td>1.694093</td>\n",
              "      <td>1.024262</td>\n",
              "      <td>1.002110</td>\n",
              "      <td>12186.982068</td>\n",
              "      <td>12.262658</td>\n",
              "      <td>827.800633</td>\n",
              "      <td>2.483122</td>\n",
              "      <td>4367.631857</td>\n",
              "      <td>1</td>\n",
              "      <td>0.009494</td>\n",
              "      <td>0.635021</td>\n",
              "    </tr>\n",
              "    <tr>\n",
              "      <th>1</th>\n",
              "      <td>1</td>\n",
              "      <td>46926.743719</td>\n",
              "      <td>77.376884</td>\n",
              "      <td>1.144054</td>\n",
              "      <td>1.028476</td>\n",
              "      <td>1.006700</td>\n",
              "      <td>3747.433836</td>\n",
              "      <td>6.634003</td>\n",
              "      <td>159.219430</td>\n",
              "      <td>0.485762</td>\n",
              "      <td>4834.253769</td>\n",
              "      <td>0</td>\n",
              "      <td>1.153266</td>\n",
              "      <td>1.032663</td>\n",
              "    </tr>\n",
              "    <tr>\n",
              "      <th>2</th>\n",
              "      <td>2</td>\n",
              "      <td>127256.052533</td>\n",
              "      <td>175.744841</td>\n",
              "      <td>4.382739</td>\n",
              "      <td>1.000000</td>\n",
              "      <td>1.046904</td>\n",
              "      <td>58641.013133</td>\n",
              "      <td>22.043152</td>\n",
              "      <td>910.326454</td>\n",
              "      <td>2.806754</td>\n",
              "      <td>5082.930582</td>\n",
              "      <td>1</td>\n",
              "      <td>2.994371</td>\n",
              "      <td>0.247655</td>\n",
              "    </tr>\n",
              "    <tr>\n",
              "      <th>3</th>\n",
              "      <td>3</td>\n",
              "      <td>30013.416309</td>\n",
              "      <td>98.054363</td>\n",
              "      <td>1.000000</td>\n",
              "      <td>1.000000</td>\n",
              "      <td>1.000000</td>\n",
              "      <td>2552.569385</td>\n",
              "      <td>6.101574</td>\n",
              "      <td>340.274678</td>\n",
              "      <td>0.948498</td>\n",
              "      <td>1568.864092</td>\n",
              "      <td>0</td>\n",
              "      <td>4.000000</td>\n",
              "      <td>1.011445</td>\n",
              "    </tr>\n",
              "    <tr>\n",
              "      <th>4</th>\n",
              "      <td>4</td>\n",
              "      <td>117737.968000</td>\n",
              "      <td>95.448000</td>\n",
              "      <td>3.566400</td>\n",
              "      <td>1.001600</td>\n",
              "      <td>1.022400</td>\n",
              "      <td>31191.422400</td>\n",
              "      <td>17.337600</td>\n",
              "      <td>226.950400</td>\n",
              "      <td>0.640000</td>\n",
              "      <td>4402.667200</td>\n",
              "      <td>0</td>\n",
              "      <td>2.000000</td>\n",
              "      <td>0.372800</td>\n",
              "    </tr>\n",
              "  </tbody>\n",
              "</table>\n",
              "</div>\n",
              "      <button class=\"colab-df-convert\" onclick=\"convertToInteractive('df-32b825e1-3425-41d1-a2e8-360b6fc64705')\"\n",
              "              title=\"Convert this dataframe to an interactive table.\"\n",
              "              style=\"display:none;\">\n",
              "        \n",
              "  <svg xmlns=\"http://www.w3.org/2000/svg\" height=\"24px\"viewBox=\"0 0 24 24\"\n",
              "       width=\"24px\">\n",
              "    <path d=\"M0 0h24v24H0V0z\" fill=\"none\"/>\n",
              "    <path d=\"M18.56 5.44l.94 2.06.94-2.06 2.06-.94-2.06-.94-.94-2.06-.94 2.06-2.06.94zm-11 1L8.5 8.5l.94-2.06 2.06-.94-2.06-.94L8.5 2.5l-.94 2.06-2.06.94zm10 10l.94 2.06.94-2.06 2.06-.94-2.06-.94-.94-2.06-.94 2.06-2.06.94z\"/><path d=\"M17.41 7.96l-1.37-1.37c-.4-.4-.92-.59-1.43-.59-.52 0-1.04.2-1.43.59L10.3 9.45l-7.72 7.72c-.78.78-.78 2.05 0 2.83L4 21.41c.39.39.9.59 1.41.59.51 0 1.02-.2 1.41-.59l7.78-7.78 2.81-2.81c.8-.78.8-2.07 0-2.86zM5.41 20L4 18.59l7.72-7.72 1.47 1.35L5.41 20z\"/>\n",
              "  </svg>\n",
              "      </button>\n",
              "      \n",
              "  <style>\n",
              "    .colab-df-container {\n",
              "      display:flex;\n",
              "      flex-wrap:wrap;\n",
              "      gap: 12px;\n",
              "    }\n",
              "\n",
              "    .colab-df-convert {\n",
              "      background-color: #E8F0FE;\n",
              "      border: none;\n",
              "      border-radius: 50%;\n",
              "      cursor: pointer;\n",
              "      display: none;\n",
              "      fill: #1967D2;\n",
              "      height: 32px;\n",
              "      padding: 0 0 0 0;\n",
              "      width: 32px;\n",
              "    }\n",
              "\n",
              "    .colab-df-convert:hover {\n",
              "      background-color: #E2EBFA;\n",
              "      box-shadow: 0px 1px 2px rgba(60, 64, 67, 0.3), 0px 1px 3px 1px rgba(60, 64, 67, 0.15);\n",
              "      fill: #174EA6;\n",
              "    }\n",
              "\n",
              "    [theme=dark] .colab-df-convert {\n",
              "      background-color: #3B4455;\n",
              "      fill: #D2E3FC;\n",
              "    }\n",
              "\n",
              "    [theme=dark] .colab-df-convert:hover {\n",
              "      background-color: #434B5C;\n",
              "      box-shadow: 0px 1px 3px 1px rgba(0, 0, 0, 0.15);\n",
              "      filter: drop-shadow(0px 1px 2px rgba(0, 0, 0, 0.3));\n",
              "      fill: #FFFFFF;\n",
              "    }\n",
              "  </style>\n",
              "\n",
              "      <script>\n",
              "        const buttonEl =\n",
              "          document.querySelector('#df-32b825e1-3425-41d1-a2e8-360b6fc64705 button.colab-df-convert');\n",
              "        buttonEl.style.display =\n",
              "          google.colab.kernel.accessAllowed ? 'block' : 'none';\n",
              "\n",
              "        async function convertToInteractive(key) {\n",
              "          const element = document.querySelector('#df-32b825e1-3425-41d1-a2e8-360b6fc64705');\n",
              "          const dataTable =\n",
              "            await google.colab.kernel.invokeFunction('convertToInteractive',\n",
              "                                                     [key], {});\n",
              "          if (!dataTable) return;\n",
              "\n",
              "          const docLinkHtml = 'Like what you see? Visit the ' +\n",
              "            '<a target=\"_blank\" href=https://colab.research.google.com/notebooks/data_table.ipynb>data table notebook</a>'\n",
              "            + ' to learn more about interactive tables.';\n",
              "          element.innerHTML = '';\n",
              "          dataTable['output_type'] = 'display_data';\n",
              "          await google.colab.output.renderOutput(dataTable, element);\n",
              "          const docLink = document.createElement('div');\n",
              "          docLink.innerHTML = docLinkHtml;\n",
              "          element.appendChild(docLink);\n",
              "        }\n",
              "      </script>\n",
              "    </div>\n",
              "  </div>\n",
              "  "
            ],
            "text/plain": [
              "  clusterid_Kmeans        Balance  Qual_miles  ... Award clustersid_s1 clustersid_s2\n",
              "                             mean        mean  ...  mean          mean          mean\n",
              "0                0   80071.828059  276.433544  ...     1      0.009494      0.635021\n",
              "1                1   46926.743719   77.376884  ...     0      1.153266      1.032663\n",
              "2                2  127256.052533  175.744841  ...     1      2.994371      0.247655\n",
              "3                3   30013.416309   98.054363  ...     0      4.000000      1.011445\n",
              "4                4  117737.968000   95.448000  ...     0      2.000000      0.372800\n",
              "\n",
              "[5 rows x 14 columns]"
            ]
          },
          "metadata": {},
          "execution_count": 39
        }
      ]
    },
    {
      "cell_type": "markdown",
      "metadata": {
        "id": "5jZn3PPp5eyi"
      },
      "source": [
        "**DBSCAN**"
      ]
    },
    {
      "cell_type": "code",
      "metadata": {
        "id": "yFVyJoNg5alK"
      },
      "source": [
        "from sklearn.cluster import DBSCAN"
      ],
      "execution_count": 40,
      "outputs": []
    },
    {
      "cell_type": "code",
      "metadata": {
        "colab": {
          "base_uri": "https://localhost:8080/"
        },
        "id": "gz0czmJk5mQs",
        "outputId": "72127587-b743-4c09-ca9b-068c1a635522"
      },
      "source": [
        "# Normalizing data using MinMaxScaler\n",
        "scaler1_df = scaler1.fit_transform(data1)\n",
        "print(scaler1_df)"
      ],
      "execution_count": 41,
      "outputs": [
        {
          "output_type": "stream",
          "name": "stdout",
          "text": [
            "[[0.01650773 0.         0.         ... 0.25       0.25       0.25      ]\n",
            " [0.01128788 0.         0.         ... 0.25       0.25       0.25      ]\n",
            " [0.02425685 0.         0.         ... 0.25       0.25       0.25      ]\n",
            " ...\n",
            " [0.0431695  0.         0.5        ... 0.         0.         0.        ]\n",
            " [0.03220189 0.         0.         ... 1.         0.25       0.75      ]\n",
            " [0.00176908 0.         0.         ... 1.         0.25       0.75      ]]\n"
          ]
        }
      ]
    },
    {
      "cell_type": "markdown",
      "metadata": {
        "id": "w_8gq9sG5wq8"
      },
      "source": [
        "**We will try for different values of eps and mn_samples**"
      ]
    },
    {
      "cell_type": "code",
      "metadata": {
        "colab": {
          "base_uri": "https://localhost:8080/"
        },
        "id": "c4eYhvmp5pxX",
        "outputId": "1b3c0fe6-6423-47b8-991a-932e9ab6b80d"
      },
      "source": [
        "# Using data normalized by MinMaxScaler\n",
        "dbscan = DBSCAN(eps=1, min_samples=12)\n",
        "dbscan.fit(scaler1_df)"
      ],
      "execution_count": 42,
      "outputs": [
        {
          "output_type": "execute_result",
          "data": {
            "text/plain": [
              "DBSCAN(eps=1, min_samples=12)"
            ]
          },
          "metadata": {},
          "execution_count": 42
        }
      ]
    },
    {
      "cell_type": "code",
      "metadata": {
        "colab": {
          "base_uri": "https://localhost:8080/"
        },
        "id": "kjs9VMhV5ru6",
        "outputId": "c8470ebd-f27d-45c8-efb3-d43aff22f241"
      },
      "source": [
        "#Noisy samples are given the label -1.\n",
        "dbscan.labels_"
      ],
      "execution_count": 43,
      "outputs": [
        {
          "output_type": "execute_result",
          "data": {
            "text/plain": [
              "array([0, 0, 0, ..., 1, 0, 0])"
            ]
          },
          "metadata": {},
          "execution_count": 43
        }
      ]
    },
    {
      "cell_type": "code",
      "metadata": {
        "colab": {
          "base_uri": "https://localhost:8080/"
        },
        "id": "lq_3dxiR5rs6",
        "outputId": "88030684-3950-42bf-e056-af602f6d105c"
      },
      "source": [
        "y=pd.DataFrame(dbscan.fit_predict(scaler1_df),columns=['clusterid_DBSCAN'])\n",
        "y['clusterid_DBSCAN'].value_counts()"
      ],
      "execution_count": 44,
      "outputs": [
        {
          "output_type": "execute_result",
          "data": {
            "text/plain": [
              " 0    2518\n",
              " 1    1479\n",
              "-1       2\n",
              "Name: clusterid_DBSCAN, dtype: int64"
            ]
          },
          "metadata": {},
          "execution_count": 44
        }
      ]
    },
    {
      "cell_type": "code",
      "metadata": {
        "colab": {
          "base_uri": "https://localhost:8080/"
        },
        "id": "IhxZYIqg5rqM",
        "outputId": "20cc8360-b158-48ab-c8e3-0666e3ee2872"
      },
      "source": [
        "# silhouette score\n",
        "sil_score= silhouette_score(scaler1_df, dbscan.labels_)\n",
        "sil_score"
      ],
      "execution_count": 45,
      "outputs": [
        {
          "output_type": "execute_result",
          "data": {
            "text/plain": [
              "0.4351796533177913"
            ]
          },
          "metadata": {},
          "execution_count": 45
        }
      ]
    },
    {
      "cell_type": "code",
      "metadata": {
        "colab": {
          "base_uri": "https://localhost:8080/",
          "height": 758
        },
        "id": "rYIfHl3v5rls",
        "outputId": "41d4bf2a-40e4-4353-d2b6-c7034c010771"
      },
      "source": [
        "# Plotting barplot using groupby method to get visualization of how many row no. in each cluster\n",
        "\n",
        "fig, ax = plt.subplots(figsize=(10, 6))\n",
        "data.groupby(['clusterid_DBSCAN']).count()['ID'].plot(kind='bar')\n",
        "plt.ylabel('ID Counts')\n",
        "plt.title('Hierarchical Clustering',fontsize='large',fontweight='bold')\n",
        "ax.set_xlabel('Clusters', fontsize='large', fontweight='bold')\n",
        "ax.set_ylabel('ID counts', fontsize='large', fontweight='bold')\n",
        "plt.yticks(fontsize=15)\n",
        "plt.xticks(fontsize=15)\n",
        "plt.show()"
      ],
      "execution_count": 46,
      "outputs": [
        {
          "output_type": "error",
          "ename": "KeyError",
          "evalue": "ignored",
          "traceback": [
            "\u001b[0;31m---------------------------------------------------------------------------\u001b[0m",
            "\u001b[0;31mKeyError\u001b[0m                                  Traceback (most recent call last)",
            "\u001b[0;32m<ipython-input-46-834a69dd62b3>\u001b[0m in \u001b[0;36m<module>\u001b[0;34m()\u001b[0m\n\u001b[1;32m      2\u001b[0m \u001b[0;34m\u001b[0m\u001b[0m\n\u001b[1;32m      3\u001b[0m \u001b[0mfig\u001b[0m\u001b[0;34m,\u001b[0m \u001b[0max\u001b[0m \u001b[0;34m=\u001b[0m \u001b[0mplt\u001b[0m\u001b[0;34m.\u001b[0m\u001b[0msubplots\u001b[0m\u001b[0;34m(\u001b[0m\u001b[0mfigsize\u001b[0m\u001b[0;34m=\u001b[0m\u001b[0;34m(\u001b[0m\u001b[0;36m10\u001b[0m\u001b[0;34m,\u001b[0m \u001b[0;36m6\u001b[0m\u001b[0;34m)\u001b[0m\u001b[0;34m)\u001b[0m\u001b[0;34m\u001b[0m\u001b[0;34m\u001b[0m\u001b[0m\n\u001b[0;32m----> 4\u001b[0;31m \u001b[0mdata\u001b[0m\u001b[0;34m.\u001b[0m\u001b[0mgroupby\u001b[0m\u001b[0;34m(\u001b[0m\u001b[0;34m[\u001b[0m\u001b[0;34m'clusterid_DBSCAN'\u001b[0m\u001b[0;34m]\u001b[0m\u001b[0;34m)\u001b[0m\u001b[0;34m.\u001b[0m\u001b[0mcount\u001b[0m\u001b[0;34m(\u001b[0m\u001b[0;34m)\u001b[0m\u001b[0;34m[\u001b[0m\u001b[0;34m'ID'\u001b[0m\u001b[0;34m]\u001b[0m\u001b[0;34m.\u001b[0m\u001b[0mplot\u001b[0m\u001b[0;34m(\u001b[0m\u001b[0mkind\u001b[0m\u001b[0;34m=\u001b[0m\u001b[0;34m'bar'\u001b[0m\u001b[0;34m)\u001b[0m\u001b[0;34m\u001b[0m\u001b[0;34m\u001b[0m\u001b[0m\n\u001b[0m\u001b[1;32m      5\u001b[0m \u001b[0mplt\u001b[0m\u001b[0;34m.\u001b[0m\u001b[0mylabel\u001b[0m\u001b[0;34m(\u001b[0m\u001b[0;34m'ID Counts'\u001b[0m\u001b[0;34m)\u001b[0m\u001b[0;34m\u001b[0m\u001b[0;34m\u001b[0m\u001b[0m\n\u001b[1;32m      6\u001b[0m \u001b[0mplt\u001b[0m\u001b[0;34m.\u001b[0m\u001b[0mtitle\u001b[0m\u001b[0;34m(\u001b[0m\u001b[0;34m'Hierarchical Clustering'\u001b[0m\u001b[0;34m,\u001b[0m\u001b[0mfontsize\u001b[0m\u001b[0;34m=\u001b[0m\u001b[0;34m'large'\u001b[0m\u001b[0;34m,\u001b[0m\u001b[0mfontweight\u001b[0m\u001b[0;34m=\u001b[0m\u001b[0;34m'bold'\u001b[0m\u001b[0;34m)\u001b[0m\u001b[0;34m\u001b[0m\u001b[0;34m\u001b[0m\u001b[0m\n",
            "\u001b[0;32m/usr/local/lib/python3.7/dist-packages/pandas/core/frame.py\u001b[0m in \u001b[0;36mgroupby\u001b[0;34m(self, by, axis, level, as_index, sort, group_keys, squeeze, observed, dropna)\u001b[0m\n\u001b[1;32m   6523\u001b[0m             \u001b[0msqueeze\u001b[0m\u001b[0;34m=\u001b[0m\u001b[0msqueeze\u001b[0m\u001b[0;34m,\u001b[0m\u001b[0;34m\u001b[0m\u001b[0;34m\u001b[0m\u001b[0m\n\u001b[1;32m   6524\u001b[0m             \u001b[0mobserved\u001b[0m\u001b[0;34m=\u001b[0m\u001b[0mobserved\u001b[0m\u001b[0;34m,\u001b[0m\u001b[0;34m\u001b[0m\u001b[0;34m\u001b[0m\u001b[0m\n\u001b[0;32m-> 6525\u001b[0;31m             \u001b[0mdropna\u001b[0m\u001b[0;34m=\u001b[0m\u001b[0mdropna\u001b[0m\u001b[0;34m,\u001b[0m\u001b[0;34m\u001b[0m\u001b[0;34m\u001b[0m\u001b[0m\n\u001b[0m\u001b[1;32m   6526\u001b[0m         )\n\u001b[1;32m   6527\u001b[0m \u001b[0;34m\u001b[0m\u001b[0m\n",
            "\u001b[0;32m/usr/local/lib/python3.7/dist-packages/pandas/core/groupby/groupby.py\u001b[0m in \u001b[0;36m__init__\u001b[0;34m(self, obj, keys, axis, level, grouper, exclusions, selection, as_index, sort, group_keys, squeeze, observed, mutated, dropna)\u001b[0m\n\u001b[1;32m    531\u001b[0m                 \u001b[0mobserved\u001b[0m\u001b[0;34m=\u001b[0m\u001b[0mobserved\u001b[0m\u001b[0;34m,\u001b[0m\u001b[0;34m\u001b[0m\u001b[0;34m\u001b[0m\u001b[0m\n\u001b[1;32m    532\u001b[0m                 \u001b[0mmutated\u001b[0m\u001b[0;34m=\u001b[0m\u001b[0mself\u001b[0m\u001b[0;34m.\u001b[0m\u001b[0mmutated\u001b[0m\u001b[0;34m,\u001b[0m\u001b[0;34m\u001b[0m\u001b[0;34m\u001b[0m\u001b[0m\n\u001b[0;32m--> 533\u001b[0;31m                 \u001b[0mdropna\u001b[0m\u001b[0;34m=\u001b[0m\u001b[0mself\u001b[0m\u001b[0;34m.\u001b[0m\u001b[0mdropna\u001b[0m\u001b[0;34m,\u001b[0m\u001b[0;34m\u001b[0m\u001b[0;34m\u001b[0m\u001b[0m\n\u001b[0m\u001b[1;32m    534\u001b[0m             )\n\u001b[1;32m    535\u001b[0m \u001b[0;34m\u001b[0m\u001b[0m\n",
            "\u001b[0;32m/usr/local/lib/python3.7/dist-packages/pandas/core/groupby/grouper.py\u001b[0m in \u001b[0;36mget_grouper\u001b[0;34m(obj, key, axis, level, sort, observed, mutated, validate, dropna)\u001b[0m\n\u001b[1;32m    784\u001b[0m                 \u001b[0min_axis\u001b[0m\u001b[0;34m,\u001b[0m \u001b[0mname\u001b[0m\u001b[0;34m,\u001b[0m \u001b[0mlevel\u001b[0m\u001b[0;34m,\u001b[0m \u001b[0mgpr\u001b[0m \u001b[0;34m=\u001b[0m \u001b[0;32mFalse\u001b[0m\u001b[0;34m,\u001b[0m \u001b[0;32mNone\u001b[0m\u001b[0;34m,\u001b[0m \u001b[0mgpr\u001b[0m\u001b[0;34m,\u001b[0m \u001b[0;32mNone\u001b[0m\u001b[0;34m\u001b[0m\u001b[0;34m\u001b[0m\u001b[0m\n\u001b[1;32m    785\u001b[0m             \u001b[0;32melse\u001b[0m\u001b[0;34m:\u001b[0m\u001b[0;34m\u001b[0m\u001b[0;34m\u001b[0m\u001b[0m\n\u001b[0;32m--> 786\u001b[0;31m                 \u001b[0;32mraise\u001b[0m \u001b[0mKeyError\u001b[0m\u001b[0;34m(\u001b[0m\u001b[0mgpr\u001b[0m\u001b[0;34m)\u001b[0m\u001b[0;34m\u001b[0m\u001b[0;34m\u001b[0m\u001b[0m\n\u001b[0m\u001b[1;32m    787\u001b[0m         \u001b[0;32melif\u001b[0m \u001b[0misinstance\u001b[0m\u001b[0;34m(\u001b[0m\u001b[0mgpr\u001b[0m\u001b[0;34m,\u001b[0m \u001b[0mGrouper\u001b[0m\u001b[0;34m)\u001b[0m \u001b[0;32mand\u001b[0m \u001b[0mgpr\u001b[0m\u001b[0;34m.\u001b[0m\u001b[0mkey\u001b[0m \u001b[0;32mis\u001b[0m \u001b[0;32mnot\u001b[0m \u001b[0;32mNone\u001b[0m\u001b[0;34m:\u001b[0m\u001b[0;34m\u001b[0m\u001b[0;34m\u001b[0m\u001b[0m\n\u001b[1;32m    788\u001b[0m             \u001b[0;31m# Add key to exclusions\u001b[0m\u001b[0;34m\u001b[0m\u001b[0;34m\u001b[0m\u001b[0;34m\u001b[0m\u001b[0m\n",
            "\u001b[0;31mKeyError\u001b[0m: 'clusterid_DBSCAN'"
          ]
        },
        {
          "output_type": "display_data",
          "data": {
            "image/png": "[encoded data removed]",
            "text/plain": [
              "<Figure size 720x432 with 1 Axes>"
            ]
          },
          "metadata": {}
        }
      ]
    },
    {
      "cell_type": "code",
      "metadata": {
        "colab": {
          "base_uri": "https://localhost:8080/"
        },
        "id": "z1wkU0GH5rE0",
        "outputId": "8d42df10-315d-4b5a-f204-318c7bb4c60f"
      },
      "source": [
        "# for epsilon = 0.8\n",
        "dbscan1 = DBSCAN(eps=0.8, min_samples=12)\n",
        "dbscan1.fit(scaler1_df)\n",
        "\n",
        "y=pd.DataFrame(dbscan1.fit_predict(scaler1_df),columns=['clusterid_DBSCAN'])\n",
        "print(y['clusterid_DBSCAN'].value_counts())\n",
        "\n",
        "# silhouette score\n",
        "sil_score= silhouette_score(scaler1_df, dbscan1.labels_)\n",
        "print('silhouette score: ',sil_score)"
      ],
      "execution_count": 47,
      "outputs": [
        {
          "output_type": "stream",
          "name": "stdout",
          "text": [
            " 0    2514\n",
            " 2     946\n",
            " 1     531\n",
            "-1       8\n",
            "Name: clusterid_DBSCAN, dtype: int64\n",
            "silhouette score:  0.46555408376042645\n"
          ]
        }
      ]
    },
    {
      "cell_type": "code",
      "metadata": {
        "colab": {
          "base_uri": "https://localhost:8080/"
        },
        "id": "UNoVxPzY770_",
        "outputId": "692b7dea-85ff-4def-8d07-3973792ea412"
      },
      "source": [
        "# for epsilon = 0.6\n",
        "dbscan2 = DBSCAN(eps=0.6, min_samples=12)\n",
        "dbscan2.fit(scaler1_df)\n",
        "\n",
        "y=pd.DataFrame(dbscan2.fit_predict(scaler1_df),columns=['clusterid_DBSCAN'])\n",
        "print(y['clusterid_DBSCAN'].value_counts())\n",
        "\n",
        "# silhouette score\n",
        "sil_score= silhouette_score(scaler1_df, dbscan2.labels_)\n",
        "print('silhouette score: ',sil_score)"
      ],
      "execution_count": 48,
      "outputs": [
        {
          "output_type": "stream",
          "name": "stdout",
          "text": [
            " 0    1191\n",
            " 3     942\n",
            " 4     699\n",
            " 2     618\n",
            " 1     523\n",
            "-1      26\n",
            "Name: clusterid_DBSCAN, dtype: int64\n",
            "silhouette score:  0.6261231990669098\n"
          ]
        }
      ]
    },
    {
      "cell_type": "code",
      "metadata": {
        "colab": {
          "base_uri": "https://localhost:8080/"
        },
        "id": "_iLUwweI8CPz",
        "outputId": "b13afd3f-2d24-4050-903f-e403bd91d42d"
      },
      "source": [
        "# for epsilon = 0.5\n",
        "dbscan3 = DBSCAN(eps=0.5, min_samples=12)\n",
        "dbscan3.fit(scaler1_df)\n",
        "\n",
        "y=pd.DataFrame(dbscan3.fit_predict(scaler1_df),columns=['clusterid_DBSCAN'])\n",
        "print(y['clusterid_DBSCAN'].value_counts())\n",
        "\n",
        "# silhouette score\n",
        "sil_score= silhouette_score(scaler1_df, dbscan3.labels_)\n",
        "print('silhouette score: ',sil_score)"
      ],
      "execution_count": 49,
      "outputs": [
        {
          "output_type": "stream",
          "name": "stdout",
          "text": [
            " 0    1166\n",
            " 3     925\n",
            " 6     699\n",
            " 2     615\n",
            " 1     474\n",
            "-1      56\n",
            " 4      48\n",
            " 5      16\n",
            "Name: clusterid_DBSCAN, dtype: int64\n",
            "silhouette score:  0.5870644557307444\n"
          ]
        }
      ]
    },
    {
      "cell_type": "code",
      "metadata": {
        "colab": {
          "base_uri": "https://localhost:8080/"
        },
        "id": "XRhS0b_A8G2y",
        "outputId": "0d1a764d-6043-42b2-b63d-20e0abd0ac35"
      },
      "source": [
        "# for epsilon = 0.55\n",
        "dbscan4 = DBSCAN(eps=0.55, min_samples=12)\n",
        "dbscan4.fit(scaler1_df)\n",
        "\n",
        "y=pd.DataFrame(dbscan4.fit_predict(scaler1_df),columns=['clusterid_DBSCAN'])\n",
        "print(y['clusterid_DBSCAN'].value_counts())\n",
        "\n",
        "# silhouette score\n",
        "sil_score= silhouette_score(scaler1_df, dbscan4.labels_)\n",
        "print('silhouette score: ',sil_score)"
      ],
      "execution_count": 50,
      "outputs": [
        {
          "output_type": "stream",
          "name": "stdout",
          "text": [
            " 0    1166\n",
            " 3     926\n",
            " 5     699\n",
            " 2     618\n",
            " 1     523\n",
            "-1      30\n",
            " 4      25\n",
            " 6      12\n",
            "Name: clusterid_DBSCAN, dtype: int64\n",
            "silhouette score:  0.6075903950018834\n"
          ]
        }
      ]
    },
    {
      "cell_type": "code",
      "metadata": {
        "id": "YQhDQahx8NSg"
      },
      "source": [
        "data['clusterid_DBSCAN'] = dbscan4.labels_\n",
        "data1['clusterid_DBSCAN'] = dbscan4.labels_"
      ],
      "execution_count": 51,
      "outputs": []
    },
    {
      "cell_type": "code",
      "metadata": {
        "colab": {
          "base_uri": "https://localhost:8080/",
          "height": 270
        },
        "id": "CpGtzcmL8kMp",
        "outputId": "36910459-89e8-4775-ca00-6b55823c8009"
      },
      "source": [
        "data.head()"
      ],
      "execution_count": 52,
      "outputs": [
        {
          "output_type": "execute_result",
          "data": {
            "text/html": [
              "\n",
              "  <div id=\"df-afce9737-e417-4283-99f1-2d3cf5789b3c\">\n",
              "    <div class=\"colab-df-container\">\n",
              "      <div>\n",
              "<style scoped>\n",
              "    .dataframe tbody tr th:only-of-type {\n",
              "        vertical-align: middle;\n",
              "    }\n",
              "\n",
              "    .dataframe tbody tr th {\n",
              "        vertical-align: top;\n",
              "    }\n",
              "\n",
              "    .dataframe thead th {\n",
              "        text-align: right;\n",
              "    }\n",
              "</style>\n",
              "<table border=\"1\" class=\"dataframe\">\n",
              "  <thead>\n",
              "    <tr style=\"text-align: right;\">\n",
              "      <th></th>\n",
              "      <th>ID</th>\n",
              "      <th>Balance</th>\n",
              "      <th>Qual_miles</th>\n",
              "      <th>cc1_miles</th>\n",
              "      <th>cc2_miles</th>\n",
              "      <th>cc3_miles</th>\n",
              "      <th>Bonus_miles</th>\n",
              "      <th>Bonus_trans</th>\n",
              "      <th>Flight_miles_12mo</th>\n",
              "      <th>Flight_trans_12</th>\n",
              "      <th>Days_since_enroll</th>\n",
              "      <th>Award</th>\n",
              "      <th>clustersid_s1</th>\n",
              "      <th>clustersid_s2</th>\n",
              "      <th>clusterid_Kmeans</th>\n",
              "      <th>clusterid_DBSCAN</th>\n",
              "    </tr>\n",
              "  </thead>\n",
              "  <tbody>\n",
              "    <tr>\n",
              "      <th>0</th>\n",
              "      <td>1</td>\n",
              "      <td>28143</td>\n",
              "      <td>0</td>\n",
              "      <td>1</td>\n",
              "      <td>1</td>\n",
              "      <td>1</td>\n",
              "      <td>174</td>\n",
              "      <td>1</td>\n",
              "      <td>0</td>\n",
              "      <td>0</td>\n",
              "      <td>7000</td>\n",
              "      <td>0</td>\n",
              "      <td>1</td>\n",
              "      <td>1</td>\n",
              "      <td>1</td>\n",
              "      <td>0</td>\n",
              "    </tr>\n",
              "    <tr>\n",
              "      <th>1</th>\n",
              "      <td>2</td>\n",
              "      <td>19244</td>\n",
              "      <td>0</td>\n",
              "      <td>1</td>\n",
              "      <td>1</td>\n",
              "      <td>1</td>\n",
              "      <td>215</td>\n",
              "      <td>2</td>\n",
              "      <td>0</td>\n",
              "      <td>0</td>\n",
              "      <td>6968</td>\n",
              "      <td>0</td>\n",
              "      <td>1</td>\n",
              "      <td>1</td>\n",
              "      <td>1</td>\n",
              "      <td>0</td>\n",
              "    </tr>\n",
              "    <tr>\n",
              "      <th>2</th>\n",
              "      <td>3</td>\n",
              "      <td>41354</td>\n",
              "      <td>0</td>\n",
              "      <td>1</td>\n",
              "      <td>1</td>\n",
              "      <td>1</td>\n",
              "      <td>4123</td>\n",
              "      <td>4</td>\n",
              "      <td>0</td>\n",
              "      <td>0</td>\n",
              "      <td>7034</td>\n",
              "      <td>0</td>\n",
              "      <td>1</td>\n",
              "      <td>1</td>\n",
              "      <td>1</td>\n",
              "      <td>0</td>\n",
              "    </tr>\n",
              "    <tr>\n",
              "      <th>3</th>\n",
              "      <td>4</td>\n",
              "      <td>14776</td>\n",
              "      <td>0</td>\n",
              "      <td>1</td>\n",
              "      <td>1</td>\n",
              "      <td>1</td>\n",
              "      <td>500</td>\n",
              "      <td>1</td>\n",
              "      <td>0</td>\n",
              "      <td>0</td>\n",
              "      <td>6952</td>\n",
              "      <td>0</td>\n",
              "      <td>1</td>\n",
              "      <td>1</td>\n",
              "      <td>1</td>\n",
              "      <td>0</td>\n",
              "    </tr>\n",
              "    <tr>\n",
              "      <th>4</th>\n",
              "      <td>5</td>\n",
              "      <td>97752</td>\n",
              "      <td>0</td>\n",
              "      <td>4</td>\n",
              "      <td>1</td>\n",
              "      <td>1</td>\n",
              "      <td>43300</td>\n",
              "      <td>26</td>\n",
              "      <td>2077</td>\n",
              "      <td>4</td>\n",
              "      <td>6935</td>\n",
              "      <td>1</td>\n",
              "      <td>3</td>\n",
              "      <td>0</td>\n",
              "      <td>2</td>\n",
              "      <td>1</td>\n",
              "    </tr>\n",
              "  </tbody>\n",
              "</table>\n",
              "</div>\n",
              "      <button class=\"colab-df-convert\" onclick=\"convertToInteractive('df-afce9737-e417-4283-99f1-2d3cf5789b3c')\"\n",
              "              title=\"Convert this dataframe to an interactive table.\"\n",
              "              style=\"display:none;\">\n",
              "        \n",
              "  <svg xmlns=\"http://www.w3.org/2000/svg\" height=\"24px\"viewBox=\"0 0 24 24\"\n",
              "       width=\"24px\">\n",
              "    <path d=\"M0 0h24v24H0V0z\" fill=\"none\"/>\n",
              "    <path d=\"M18.56 5.44l.94 2.06.94-2.06 2.06-.94-2.06-.94-.94-2.06-.94 2.06-2.06.94zm-11 1L8.5 8.5l.94-2.06 2.06-.94-2.06-.94L8.5 2.5l-.94 2.06-2.06.94zm10 10l.94 2.06.94-2.06 2.06-.94-2.06-.94-.94-2.06-.94 2.06-2.06.94z\"/><path d=\"M17.41 7.96l-1.37-1.37c-.4-.4-.92-.59-1.43-.59-.52 0-1.04.2-1.43.59L10.3 9.45l-7.72 7.72c-.78.78-.78 2.05 0 2.83L4 21.41c.39.39.9.59 1.41.59.51 0 1.02-.2 1.41-.59l7.78-7.78 2.81-2.81c.8-.78.8-2.07 0-2.86zM5.41 20L4 18.59l7.72-7.72 1.47 1.35L5.41 20z\"/>\n",
              "  </svg>\n",
              "      </button>\n",
              "      \n",
              "  <style>\n",
              "    .colab-df-container {\n",
              "      display:flex;\n",
              "      flex-wrap:wrap;\n",
              "      gap: 12px;\n",
              "    }\n",
              "\n",
              "    .colab-df-convert {\n",
              "      background-color: #E8F0FE;\n",
              "      border: none;\n",
              "      border-radius: 50%;\n",
              "      cursor: pointer;\n",
              "      display: none;\n",
              "      fill: #1967D2;\n",
              "      height: 32px;\n",
              "      padding: 0 0 0 0;\n",
              "      width: 32px;\n",
              "    }\n",
              "\n",
              "    .colab-df-convert:hover {\n",
              "      background-color: #E2EBFA;\n",
              "      box-shadow: 0px 1px 2px rgba(60, 64, 67, 0.3), 0px 1px 3px 1px rgba(60, 64, 67, 0.15);\n",
              "      fill: #174EA6;\n",
              "    }\n",
              "\n",
              "    [theme=dark] .colab-df-convert {\n",
              "      background-color: #3B4455;\n",
              "      fill: #D2E3FC;\n",
              "    }\n",
              "\n",
              "    [theme=dark] .colab-df-convert:hover {\n",
              "      background-color: #434B5C;\n",
              "      box-shadow: 0px 1px 3px 1px rgba(0, 0, 0, 0.15);\n",
              "      filter: drop-shadow(0px 1px 2px rgba(0, 0, 0, 0.3));\n",
              "      fill: #FFFFFF;\n",
              "    }\n",
              "  </style>\n",
              "\n",
              "      <script>\n",
              "        const buttonEl =\n",
              "          document.querySelector('#df-afce9737-e417-4283-99f1-2d3cf5789b3c button.colab-df-convert');\n",
              "        buttonEl.style.display =\n",
              "          google.colab.kernel.accessAllowed ? 'block' : 'none';\n",
              "\n",
              "        async function convertToInteractive(key) {\n",
              "          const element = document.querySelector('#df-afce9737-e417-4283-99f1-2d3cf5789b3c');\n",
              "          const dataTable =\n",
              "            await google.colab.kernel.invokeFunction('convertToInteractive',\n",
              "                                                     [key], {});\n",
              "          if (!dataTable) return;\n",
              "\n",
              "          const docLinkHtml = 'Like what you see? Visit the ' +\n",
              "            '<a target=\"_blank\" href=https://colab.research.google.com/notebooks/data_table.ipynb>data table notebook</a>'\n",
              "            + ' to learn more about interactive tables.';\n",
              "          element.innerHTML = '';\n",
              "          dataTable['output_type'] = 'display_data';\n",
              "          await google.colab.output.renderOutput(dataTable, element);\n",
              "          const docLink = document.createElement('div');\n",
              "          docLink.innerHTML = docLinkHtml;\n",
              "          element.appendChild(docLink);\n",
              "        }\n",
              "      </script>\n",
              "    </div>\n",
              "  </div>\n",
              "  "
            ],
            "text/plain": [
              "   ID  Balance  Qual_miles  ...  clustersid_s2  clusterid_Kmeans  clusterid_DBSCAN\n",
              "0   1    28143           0  ...              1                 1                 0\n",
              "1   2    19244           0  ...              1                 1                 0\n",
              "2   3    41354           0  ...              1                 1                 0\n",
              "3   4    14776           0  ...              1                 1                 0\n",
              "4   5    97752           0  ...              0                 2                 1\n",
              "\n",
              "[5 rows x 16 columns]"
            ]
          },
          "metadata": {},
          "execution_count": 52
        }
      ]
    },
    {
      "cell_type": "code",
      "metadata": {
        "colab": {
          "base_uri": "https://localhost:8080/",
          "height": 412
        },
        "id": "TCcSBXG58oRF",
        "outputId": "a3f0650e-e86e-42b9-b871-e743cffe070a"
      },
      "source": [
        "# Plotting barplot using groupby method to get visualization of how many row no. in each cluster\n",
        "\n",
        "fig, ax = plt.subplots(figsize=(10, 6))\n",
        "data.groupby(['clusterid_DBSCAN']).count()['ID'].plot(kind='bar')\n",
        "plt.ylabel('ID Counts')\n",
        "plt.title('Hierarchical Clustering',fontsize='large',fontweight='bold')\n",
        "ax.set_xlabel('Clusters', fontsize='large', fontweight='bold')\n",
        "ax.set_ylabel('ID counts', fontsize='large', fontweight='bold')\n",
        "plt.yticks(fontsize=15)\n",
        "plt.xticks(fontsize=15)\n",
        "plt.show()"
      ],
      "execution_count": 53,
      "outputs": [
        {
          "output_type": "display_data",
          "data": {
            "image/png": "[encoded data removed]",
            "text/plain": [
              "<Figure size 720x432 with 1 Axes>"
            ]
          },
          "metadata": {}
        }
      ]
    },
    {
      "cell_type": "code",
      "metadata": {
        "colab": {
          "base_uri": "https://localhost:8080/",
          "height": 395
        },
        "id": "4XLTGTjP8sBT",
        "outputId": "e0cb367f-0cfc-47cc-c4fa-85951e2a10a4"
      },
      "source": [
        "data1.groupby('clusterid_DBSCAN').agg(['mean']).reset_index()"
      ],
      "execution_count": 54,
      "outputs": [
        {
          "output_type": "execute_result",
          "data": {
            "text/html": [
              "\n",
              "  <div id=\"df-c421b21a-a1eb-4813-8eab-8ad3e77bfb35\">\n",
              "    <div class=\"colab-df-container\">\n",
              "      <div>\n",
              "<style scoped>\n",
              "    .dataframe tbody tr th:only-of-type {\n",
              "        vertical-align: middle;\n",
              "    }\n",
              "\n",
              "    .dataframe tbody tr th {\n",
              "        vertical-align: top;\n",
              "    }\n",
              "\n",
              "    .dataframe thead tr th {\n",
              "        text-align: left;\n",
              "    }\n",
              "</style>\n",
              "<table border=\"1\" class=\"dataframe\">\n",
              "  <thead>\n",
              "    <tr>\n",
              "      <th></th>\n",
              "      <th>clusterid_DBSCAN</th>\n",
              "      <th>Balance</th>\n",
              "      <th>Qual_miles</th>\n",
              "      <th>cc1_miles</th>\n",
              "      <th>cc2_miles</th>\n",
              "      <th>cc3_miles</th>\n",
              "      <th>Bonus_miles</th>\n",
              "      <th>Bonus_trans</th>\n",
              "      <th>Flight_miles_12mo</th>\n",
              "      <th>Flight_trans_12</th>\n",
              "      <th>Days_since_enroll</th>\n",
              "      <th>Award</th>\n",
              "      <th>clustersid_s1</th>\n",
              "      <th>clustersid_s2</th>\n",
              "      <th>clusterid_Kmeans</th>\n",
              "    </tr>\n",
              "    <tr>\n",
              "      <th></th>\n",
              "      <th></th>\n",
              "      <th>mean</th>\n",
              "      <th>mean</th>\n",
              "      <th>mean</th>\n",
              "      <th>mean</th>\n",
              "      <th>mean</th>\n",
              "      <th>mean</th>\n",
              "      <th>mean</th>\n",
              "      <th>mean</th>\n",
              "      <th>mean</th>\n",
              "      <th>mean</th>\n",
              "      <th>mean</th>\n",
              "      <th>mean</th>\n",
              "      <th>mean</th>\n",
              "      <th>mean</th>\n",
              "    </tr>\n",
              "  </thead>\n",
              "  <tbody>\n",
              "    <tr>\n",
              "      <th>0</th>\n",
              "      <td>-1</td>\n",
              "      <td>183411.700000</td>\n",
              "      <td>429.833333</td>\n",
              "      <td>2.833333</td>\n",
              "      <td>1.333333</td>\n",
              "      <td>2.633333</td>\n",
              "      <td>72041.633333</td>\n",
              "      <td>30.533333</td>\n",
              "      <td>3054.166667</td>\n",
              "      <td>8.600000</td>\n",
              "      <td>4367.433333</td>\n",
              "      <td>0.666667</td>\n",
              "      <td>1.833333</td>\n",
              "      <td>3.200000</td>\n",
              "      <td>1.7</td>\n",
              "    </tr>\n",
              "    <tr>\n",
              "      <th>1</th>\n",
              "      <td>0</td>\n",
              "      <td>46899.698971</td>\n",
              "      <td>79.234991</td>\n",
              "      <td>1.147513</td>\n",
              "      <td>1.000000</td>\n",
              "      <td>1.000000</td>\n",
              "      <td>3461.704974</td>\n",
              "      <td>6.469983</td>\n",
              "      <td>159.826758</td>\n",
              "      <td>0.484563</td>\n",
              "      <td>4864.476844</td>\n",
              "      <td>0.000000</td>\n",
              "      <td>1.155232</td>\n",
              "      <td>0.982847</td>\n",
              "      <td>1.0</td>\n",
              "    </tr>\n",
              "    <tr>\n",
              "      <th>2</th>\n",
              "      <td>1</td>\n",
              "      <td>128144.883365</td>\n",
              "      <td>159.577438</td>\n",
              "      <td>4.384321</td>\n",
              "      <td>1.000000</td>\n",
              "      <td>1.000000</td>\n",
              "      <td>57731.363289</td>\n",
              "      <td>21.841300</td>\n",
              "      <td>878.879541</td>\n",
              "      <td>2.755258</td>\n",
              "      <td>5092.133843</td>\n",
              "      <td>1.000000</td>\n",
              "      <td>3.000000</td>\n",
              "      <td>0.187380</td>\n",
              "      <td>2.0</td>\n",
              "    </tr>\n",
              "    <tr>\n",
              "      <th>3</th>\n",
              "      <td>2</td>\n",
              "      <td>116706.328479</td>\n",
              "      <td>96.529126</td>\n",
              "      <td>3.563107</td>\n",
              "      <td>1.000000</td>\n",
              "      <td>1.000000</td>\n",
              "      <td>30816.666667</td>\n",
              "      <td>17.226537</td>\n",
              "      <td>224.990291</td>\n",
              "      <td>0.634304</td>\n",
              "      <td>4406.014563</td>\n",
              "      <td>0.000000</td>\n",
              "      <td>2.000000</td>\n",
              "      <td>0.333333</td>\n",
              "      <td>4.0</td>\n",
              "    </tr>\n",
              "    <tr>\n",
              "      <th>4</th>\n",
              "      <td>3</td>\n",
              "      <td>77576.992441</td>\n",
              "      <td>280.104752</td>\n",
              "      <td>1.707343</td>\n",
              "      <td>1.000000</td>\n",
              "      <td>1.000000</td>\n",
              "      <td>11772.331533</td>\n",
              "      <td>11.903888</td>\n",
              "      <td>768.916847</td>\n",
              "      <td>2.303456</td>\n",
              "      <td>4364.233261</td>\n",
              "      <td>1.000000</td>\n",
              "      <td>0.000000</td>\n",
              "      <td>0.586393</td>\n",
              "      <td>0.0</td>\n",
              "    </tr>\n",
              "    <tr>\n",
              "      <th>5</th>\n",
              "      <td>4</td>\n",
              "      <td>43494.400000</td>\n",
              "      <td>0.000000</td>\n",
              "      <td>1.000000</td>\n",
              "      <td>2.360000</td>\n",
              "      <td>1.000000</td>\n",
              "      <td>11483.320000</td>\n",
              "      <td>13.800000</td>\n",
              "      <td>150.000000</td>\n",
              "      <td>0.600000</td>\n",
              "      <td>3544.400000</td>\n",
              "      <td>0.000000</td>\n",
              "      <td>1.000000</td>\n",
              "      <td>3.000000</td>\n",
              "      <td>1.0</td>\n",
              "    </tr>\n",
              "    <tr>\n",
              "      <th>6</th>\n",
              "      <td>5</td>\n",
              "      <td>30013.416309</td>\n",
              "      <td>98.054363</td>\n",
              "      <td>1.000000</td>\n",
              "      <td>1.000000</td>\n",
              "      <td>1.000000</td>\n",
              "      <td>2552.569385</td>\n",
              "      <td>6.101574</td>\n",
              "      <td>340.274678</td>\n",
              "      <td>0.948498</td>\n",
              "      <td>1568.864092</td>\n",
              "      <td>0.000000</td>\n",
              "      <td>4.000000</td>\n",
              "      <td>1.011445</td>\n",
              "      <td>3.0</td>\n",
              "    </tr>\n",
              "    <tr>\n",
              "      <th>7</th>\n",
              "      <td>6</td>\n",
              "      <td>91415.916667</td>\n",
              "      <td>0.000000</td>\n",
              "      <td>1.083333</td>\n",
              "      <td>2.166667</td>\n",
              "      <td>1.000000</td>\n",
              "      <td>12827.666667</td>\n",
              "      <td>19.500000</td>\n",
              "      <td>788.583333</td>\n",
              "      <td>2.166667</td>\n",
              "      <td>4540.583333</td>\n",
              "      <td>1.000000</td>\n",
              "      <td>0.000000</td>\n",
              "      <td>3.000000</td>\n",
              "      <td>0.0</td>\n",
              "    </tr>\n",
              "  </tbody>\n",
              "</table>\n",
              "</div>\n",
              "      <button class=\"colab-df-convert\" onclick=\"convertToInteractive('df-c421b21a-a1eb-4813-8eab-8ad3e77bfb35')\"\n",
              "              title=\"Convert this dataframe to an interactive table.\"\n",
              "              style=\"display:none;\">\n",
              "        \n",
              "  <svg xmlns=\"http://www.w3.org/2000/svg\" height=\"24px\"viewBox=\"0 0 24 24\"\n",
              "       width=\"24px\">\n",
              "    <path d=\"M0 0h24v24H0V0z\" fill=\"none\"/>\n",
              "    <path d=\"M18.56 5.44l.94 2.06.94-2.06 2.06-.94-2.06-.94-.94-2.06-.94 2.06-2.06.94zm-11 1L8.5 8.5l.94-2.06 2.06-.94-2.06-.94L8.5 2.5l-.94 2.06-2.06.94zm10 10l.94 2.06.94-2.06 2.06-.94-2.06-.94-.94-2.06-.94 2.06-2.06.94z\"/><path d=\"M17.41 7.96l-1.37-1.37c-.4-.4-.92-.59-1.43-.59-.52 0-1.04.2-1.43.59L10.3 9.45l-7.72 7.72c-.78.78-.78 2.05 0 2.83L4 21.41c.39.39.9.59 1.41.59.51 0 1.02-.2 1.41-.59l7.78-7.78 2.81-2.81c.8-.78.8-2.07 0-2.86zM5.41 20L4 18.59l7.72-7.72 1.47 1.35L5.41 20z\"/>\n",
              "  </svg>\n",
              "      </button>\n",
              "      \n",
              "  <style>\n",
              "    .colab-df-container {\n",
              "      display:flex;\n",
              "      flex-wrap:wrap;\n",
              "      gap: 12px;\n",
              "    }\n",
              "\n",
              "    .colab-df-convert {\n",
              "      background-color: #E8F0FE;\n",
              "      border: none;\n",
              "      border-radius: 50%;\n",
              "      cursor: pointer;\n",
              "      display: none;\n",
              "      fill: #1967D2;\n",
              "      height: 32px;\n",
              "      padding: 0 0 0 0;\n",
              "      width: 32px;\n",
              "    }\n",
              "\n",
              "    .colab-df-convert:hover {\n",
              "      background-color: #E2EBFA;\n",
              "      box-shadow: 0px 1px 2px rgba(60, 64, 67, 0.3), 0px 1px 3px 1px rgba(60, 64, 67, 0.15);\n",
              "      fill: #174EA6;\n",
              "    }\n",
              "\n",
              "    [theme=dark] .colab-df-convert {\n",
              "      background-color: #3B4455;\n",
              "      fill: #D2E3FC;\n",
              "    }\n",
              "\n",
              "    [theme=dark] .colab-df-convert:hover {\n",
              "      background-color: #434B5C;\n",
              "      box-shadow: 0px 1px 3px 1px rgba(0, 0, 0, 0.15);\n",
              "      filter: drop-shadow(0px 1px 2px rgba(0, 0, 0, 0.3));\n",
              "      fill: #FFFFFF;\n",
              "    }\n",
              "  </style>\n",
              "\n",
              "      <script>\n",
              "        const buttonEl =\n",
              "          document.querySelector('#df-c421b21a-a1eb-4813-8eab-8ad3e77bfb35 button.colab-df-convert');\n",
              "        buttonEl.style.display =\n",
              "          google.colab.kernel.accessAllowed ? 'block' : 'none';\n",
              "\n",
              "        async function convertToInteractive(key) {\n",
              "          const element = document.querySelector('#df-c421b21a-a1eb-4813-8eab-8ad3e77bfb35');\n",
              "          const dataTable =\n",
              "            await google.colab.kernel.invokeFunction('convertToInteractive',\n",
              "                                                     [key], {});\n",
              "          if (!dataTable) return;\n",
              "\n",
              "          const docLinkHtml = 'Like what you see? Visit the ' +\n",
              "            '<a target=\"_blank\" href=https://colab.research.google.com/notebooks/data_table.ipynb>data table notebook</a>'\n",
              "            + ' to learn more about interactive tables.';\n",
              "          element.innerHTML = '';\n",
              "          dataTable['output_type'] = 'display_data';\n",
              "          await google.colab.output.renderOutput(dataTable, element);\n",
              "          const docLink = document.createElement('div');\n",
              "          docLink.innerHTML = docLinkHtml;\n",
              "          element.appendChild(docLink);\n",
              "        }\n",
              "      </script>\n",
              "    </div>\n",
              "  </div>\n",
              "  "
            ],
            "text/plain": [
              "  clusterid_DBSCAN        Balance  ... clustersid_s2 clusterid_Kmeans\n",
              "                             mean  ...          mean             mean\n",
              "0               -1  183411.700000  ...      3.200000              1.7\n",
              "1                0   46899.698971  ...      0.982847              1.0\n",
              "2                1  128144.883365  ...      0.187380              2.0\n",
              "3                2  116706.328479  ...      0.333333              4.0\n",
              "4                3   77576.992441  ...      0.586393              0.0\n",
              "5                4   43494.400000  ...      3.000000              1.0\n",
              "6                5   30013.416309  ...      1.011445              3.0\n",
              "7                6   91415.916667  ...      3.000000              0.0\n",
              "\n",
              "[8 rows x 15 columns]"
            ]
          },
          "metadata": {},
          "execution_count": 54
        }
      ]
    },
    {
      "cell_type": "code",
      "metadata": {
        "id": "7qOAkc078yl9"
      },
      "source": [
        ""
      ],
      "execution_count": null,
      "outputs": []
    }
  ]
}